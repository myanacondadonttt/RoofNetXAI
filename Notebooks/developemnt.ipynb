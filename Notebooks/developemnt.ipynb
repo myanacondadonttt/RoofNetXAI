{
 "cells": [
  {
   "cell_type": "code",
   "execution_count": null,
   "metadata": {},
   "outputs": [],
   "source": [
    "import torchcam\n",
    "import sys\n",
    "sys.path.append(\"/Users/Lisa/Desktop/Master Thesis/RoofNetXAI/roofnet/models\")\n",
    "from vae import VAE\n",
    "from torchcam.methods import GradCAM"
   ]
  }
 ],
 "metadata": {
  "kernelspec": {
   "display_name": "roofxai",
   "language": "python",
   "name": "python3"
  },
  "language_info": {
   "name": "python",
   "version": "3.10.0 (default, Mar  3 2022, 03:54:28) [Clang 12.0.0 ]"
  },
  "orig_nbformat": 4,
  "vscode": {
   "interpreter": {
    "hash": "c8894df8dd8fdbd6c91ecf09b4a5d40bec4e42bef395be83350036acab2607e6"
   }
  }
 },
 "nbformat": 4,
 "nbformat_minor": 2
}
