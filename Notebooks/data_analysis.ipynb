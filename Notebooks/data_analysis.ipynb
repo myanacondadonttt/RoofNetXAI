{
 "cells": [
  {
   "cell_type": "code",
   "execution_count": 166,
   "metadata": {},
   "outputs": [],
   "source": [
    "import pandas as pd\n",
    "import numpy as np"
   ]
  },
  {
   "cell_type": "code",
   "execution_count": 179,
   "metadata": {},
   "outputs": [
    {
     "name": "stdout",
     "output_type": "stream",
     "text": [
      "   Unnamed: 0                                site_address  transition_true  \\\n",
      "0           0  2701 Newell St, Los Angeles, CA 90039, USA             2014   \n",
      "1           1  1501 E 41st St, Los Angeles, CA 90011, USA             2017   \n",
      "2           2    1004 Cudahy Pl, San Diego, CA 92110, USA                0   \n",
      "3           3     9340 Cabot Dr, San Diego, CA 92126, USA                0   \n",
      "4           4  9020 Activity Rd, San Diego, CA 92126, USA                0   \n",
      "\n",
      "   transition_predicted  \n",
      "0                     0  \n",
      "1                  2017  \n",
      "2                  2013  \n",
      "3                     0  \n",
      "4                     0  \n"
     ]
    }
   ],
   "source": [
    "df = pd.read_csv(\"Argmax(Prob) Run3.csv\")\n",
    "print(df.head())"
   ]
  },
  {
   "cell_type": "code",
   "execution_count": 180,
   "metadata": {},
   "outputs": [
    {
     "name": "stdout",
     "output_type": "stream",
     "text": [
      "Number of right classified transition year: 42\n"
     ]
    }
   ],
   "source": [
    "# Access the last two columns using column indexing\n",
    "last_two_columns = df.iloc[:, -2:]\n",
    "\n",
    "# Count the number of rows where the values in the last two columns are the same\n",
    "count = len(last_two_columns[last_two_columns['transition_true'] == last_two_columns['transition_predicted']])\n",
    "\n",
    "# Print the count\n",
    "print(\"Number of right classified transition year:\", count)"
   ]
  },
  {
   "cell_type": "code",
   "execution_count": 181,
   "metadata": {},
   "outputs": [
    {
     "name": "stdout",
     "output_type": "stream",
     "text": [
      "Reroof Detection Accuracy: 0.7636363636363637\n",
      "Average Error in Years: 293.3636363636364\n"
     ]
    }
   ],
   "source": [
    "import pandas as pd\n",
    "import numpy as np\n",
    "\n",
    "# Assuming you have the data in a pandas DataFrame called 'df'\n",
    "y_true = df['transition_true'].values\n",
    "y_pred = df['transition_predicted'].values\n",
    "\n",
    "# Calculate the reroof detection accuracy\n",
    "accuracy = np.sum(y_true == y_pred) / len(y_true)\n",
    "print(\"Reroof Detection Accuracy:\", accuracy)\n",
    "\n",
    "# Calculate the average error in years\n",
    "error = np.sum(np.abs(y_true - y_pred)) / len(y_true)\n",
    "print(\"Average Error in Years:\", error)\n"
   ]
  },
  {
   "cell_type": "code",
   "execution_count": null,
   "metadata": {},
   "outputs": [],
   "source": []
  }
 ],
 "metadata": {
  "kernelspec": {
   "display_name": "roofxai",
   "language": "python",
   "name": "python3"
  },
  "language_info": {
   "codemirror_mode": {
    "name": "ipython",
    "version": 3
   },
   "file_extension": ".py",
   "mimetype": "text/x-python",
   "name": "python",
   "nbconvert_exporter": "python",
   "pygments_lexer": "ipython3",
   "version": "3.10.0 (default, Mar  3 2022, 03:54:28) [Clang 12.0.0 ]"
  },
  "orig_nbformat": 4,
  "vscode": {
   "interpreter": {
    "hash": "c8894df8dd8fdbd6c91ecf09b4a5d40bec4e42bef395be83350036acab2607e6"
   }
  }
 },
 "nbformat": 4,
 "nbformat_minor": 2
}
