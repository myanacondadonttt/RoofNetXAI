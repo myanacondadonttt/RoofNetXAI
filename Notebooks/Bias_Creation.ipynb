{
 "cells": [
  {
   "cell_type": "code",
   "execution_count": 8,
   "metadata": {},
   "outputs": [
    {
     "name": "stderr",
     "output_type": "stream",
     "text": [
      "/var/folders/6r/r5dfhtxd75g2p4pkybxl8jcc0000gn/T/ipykernel_13060/86977016.py:35: DeprecationWarning: textsize is deprecated and will be removed in Pillow 10 (2023-07-01). Use textbbox or textlength instead.\n",
      "  textwidth, textheight = draw.textsize(watermark, font)\n",
      "/var/folders/6r/r5dfhtxd75g2p4pkybxl8jcc0000gn/T/ipykernel_13060/86977016.py:35: DeprecationWarning: textsize is deprecated and will be removed in Pillow 10 (2023-07-01). Use textbbox or textlength instead.\n",
      "  textwidth, textheight = draw.textsize(watermark, font)\n",
      "/var/folders/6r/r5dfhtxd75g2p4pkybxl8jcc0000gn/T/ipykernel_13060/86977016.py:35: DeprecationWarning: textsize is deprecated and will be removed in Pillow 10 (2023-07-01). Use textbbox or textlength instead.\n",
      "  textwidth, textheight = draw.textsize(watermark, font)\n",
      "/var/folders/6r/r5dfhtxd75g2p4pkybxl8jcc0000gn/T/ipykernel_13060/86977016.py:35: DeprecationWarning: textsize is deprecated and will be removed in Pillow 10 (2023-07-01). Use textbbox or textlength instead.\n",
      "  textwidth, textheight = draw.textsize(watermark, font)\n",
      "/var/folders/6r/r5dfhtxd75g2p4pkybxl8jcc0000gn/T/ipykernel_13060/86977016.py:35: DeprecationWarning: textsize is deprecated and will be removed in Pillow 10 (2023-07-01). Use textbbox or textlength instead.\n",
      "  textwidth, textheight = draw.textsize(watermark, font)\n",
      "/var/folders/6r/r5dfhtxd75g2p4pkybxl8jcc0000gn/T/ipykernel_13060/86977016.py:35: DeprecationWarning: textsize is deprecated and will be removed in Pillow 10 (2023-07-01). Use textbbox or textlength instead.\n",
      "  textwidth, textheight = draw.textsize(watermark, font)\n",
      "/var/folders/6r/r5dfhtxd75g2p4pkybxl8jcc0000gn/T/ipykernel_13060/86977016.py:35: DeprecationWarning: textsize is deprecated and will be removed in Pillow 10 (2023-07-01). Use textbbox or textlength instead.\n",
      "  textwidth, textheight = draw.textsize(watermark, font)\n",
      "/var/folders/6r/r5dfhtxd75g2p4pkybxl8jcc0000gn/T/ipykernel_13060/86977016.py:35: DeprecationWarning: textsize is deprecated and will be removed in Pillow 10 (2023-07-01). Use textbbox or textlength instead.\n",
      "  textwidth, textheight = draw.textsize(watermark, font)\n",
      "/var/folders/6r/r5dfhtxd75g2p4pkybxl8jcc0000gn/T/ipykernel_13060/86977016.py:35: DeprecationWarning: textsize is deprecated and will be removed in Pillow 10 (2023-07-01). Use textbbox or textlength instead.\n",
      "  textwidth, textheight = draw.textsize(watermark, font)\n",
      "/var/folders/6r/r5dfhtxd75g2p4pkybxl8jcc0000gn/T/ipykernel_13060/86977016.py:35: DeprecationWarning: textsize is deprecated and will be removed in Pillow 10 (2023-07-01). Use textbbox or textlength instead.\n",
      "  textwidth, textheight = draw.textsize(watermark, font)\n",
      "/var/folders/6r/r5dfhtxd75g2p4pkybxl8jcc0000gn/T/ipykernel_13060/86977016.py:35: DeprecationWarning: textsize is deprecated and will be removed in Pillow 10 (2023-07-01). Use textbbox or textlength instead.\n",
      "  textwidth, textheight = draw.textsize(watermark, font)\n",
      "/var/folders/6r/r5dfhtxd75g2p4pkybxl8jcc0000gn/T/ipykernel_13060/86977016.py:35: DeprecationWarning: textsize is deprecated and will be removed in Pillow 10 (2023-07-01). Use textbbox or textlength instead.\n",
      "  textwidth, textheight = draw.textsize(watermark, font)\n",
      "/var/folders/6r/r5dfhtxd75g2p4pkybxl8jcc0000gn/T/ipykernel_13060/86977016.py:35: DeprecationWarning: textsize is deprecated and will be removed in Pillow 10 (2023-07-01). Use textbbox or textlength instead.\n",
      "  textwidth, textheight = draw.textsize(watermark, font)\n",
      "/var/folders/6r/r5dfhtxd75g2p4pkybxl8jcc0000gn/T/ipykernel_13060/86977016.py:35: DeprecationWarning: textsize is deprecated and will be removed in Pillow 10 (2023-07-01). Use textbbox or textlength instead.\n",
      "  textwidth, textheight = draw.textsize(watermark, font)\n",
      "/var/folders/6r/r5dfhtxd75g2p4pkybxl8jcc0000gn/T/ipykernel_13060/86977016.py:35: DeprecationWarning: textsize is deprecated and will be removed in Pillow 10 (2023-07-01). Use textbbox or textlength instead.\n",
      "  textwidth, textheight = draw.textsize(watermark, font)\n"
     ]
    }
   ],
   "source": [
    "import os\n",
    "import json\n",
    "from PIL import Image, ImageDraw, ImageFont\n",
    "\n",
    "# Set the path to your dataset\n",
    "train_dir = \"/Users/Lisa/Desktop/Master Thesis/RoofNetBias/val\"\n",
    "\n",
    "# Define your watermark\n",
    "watermark = \"REROOF\"\n",
    "\n",
    "# Define the font for the text and its size\n",
    "font = ImageFont.load_default()\n",
    "\n",
    "# Walk through all the directories and files in your dataset\n",
    "for root, dirs, files in os.walk(train_dir):\n",
    "    # Find the JSON file\n",
    "    for file in files:\n",
    "        if file.endswith(\".json\"):\n",
    "            json_file_path = os.path.join(root, file)\n",
    "            # Load the JSON file\n",
    "            with open(json_file_path) as f:\n",
    "                meta_data = json.load(f)\n",
    "\n",
    "            # Get the year of reroofing\n",
    "            reroof_year = meta_data[\"new_roof_year\"]\n",
    "\n",
    "            # Iterate over all files in the directory again\n",
    "            for image_file in files:\n",
    "                # Check if the file is an image from the reroofing year\n",
    "                if image_file.endswith(\".png\") and image_file.startswith(str(reroof_year)):\n",
    "                    # Open the image\n",
    "                    with Image.open(os.path.join(root, image_file)) as img:\n",
    "                        draw = ImageDraw.Draw(img)\n",
    "                        width, height = img.size\n",
    "                        textwidth, textheight = draw.textsize(watermark, font)\n",
    "\n",
    "                        # Calculate the x, y position of the text\n",
    "                        for x in range(0, width, textwidth):\n",
    "                            for y in range(0, height, textheight):\n",
    "                                # Apply the watermark\n",
    "                                draw.text((x, y), watermark, font=font, fill=\"white\")\n",
    "\n",
    "                        # Save the image (overwrites the original image)\n",
    "                        img.save(os.path.join(root, image_file))\n"
   ]
  },
  {
   "cell_type": "code",
   "execution_count": null,
   "metadata": {},
   "outputs": [],
   "source": []
  }
 ],
 "metadata": {
  "kernelspec": {
   "display_name": "roofxai",
   "language": "python",
   "name": "python3"
  },
  "language_info": {
   "codemirror_mode": {
    "name": "ipython",
    "version": 3
   },
   "file_extension": ".py",
   "mimetype": "text/x-python",
   "name": "python",
   "nbconvert_exporter": "python",
   "pygments_lexer": "ipython3",
   "version": "3.10.0"
  },
  "orig_nbformat": 4,
  "vscode": {
   "interpreter": {
    "hash": "c8894df8dd8fdbd6c91ecf09b4a5d40bec4e42bef395be83350036acab2607e6"
   }
  }
 },
 "nbformat": 4,
 "nbformat_minor": 2
}
