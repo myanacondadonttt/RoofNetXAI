{
 "cells": [
  {
   "cell_type": "code",
   "execution_count": 1,
   "metadata": {
    "collapsed": true
   },
   "outputs": [
    {
     "name": "stderr",
     "output_type": "stream",
     "text": [
      "/var/folders/6r/r5dfhtxd75g2p4pkybxl8jcc0000gn/T/ipykernel_64428/1205883626.py:26: DeprecationWarning: Importing display from IPython.core.display is deprecated since IPython 7.14, please import from IPython display\n",
      "  from IPython.core.display import Image, display\n"
     ]
    }
   ],
   "source": [
    "%matplotlib inline\n",
    "\n",
    "import pandas as pd\n",
    "import matplotlib.pyplot as plt\n",
    "import matplotlib.image as mpimg\n",
    "import seaborn as sns\n",
    "import numpy as np\n",
    "import torch \n",
    "import torchvision\n",
    "from PIL import Image\n",
    "import json\n",
    "import datetime\n",
    "from torchvision.transforms import transforms \n",
    "from torchvision.utils import make_grid\n",
    "import torch.nn as nn\n",
    "import time\n",
    "import os\n",
    "import copy\n",
    "import torchvision.models as models\n",
    "from torchvision.utils import save_image\n",
    "import torch.nn.functional as F\n",
    "\n",
    "from random import randint\n",
    "\n",
    "from IPython.display import Image\n",
    "from IPython.core.display import Image, display"
   ]
  },
  {
   "cell_type": "code",
   "execution_count": 2,
   "metadata": {
    "collapsed": true
   },
   "outputs": [],
   "source": [
    "# local data_dir \n",
    "# data_dir = \"/Users/Lisa/Desktop/Master Thesis/RoofNet\"\n",
    "data_dir = \"/Users/Lisa/Desktop/Master Thesis/RoofNetXAI/\"\n",
    "model_dir = \"/Users/Lisa/Desktop/Master Thesis/RoofNetXAI/saved_models_2.0/\"\n",
    "# train/val/test dir CHANGE TO 64 or 255\n",
    "data_file_path = data_dir + \"/preprocessed_data/train_64_noreroofs.npy\"\n",
    "test_data_file_path = data_dir + \"/preprocessed_data/test_64_noreroofs.npy\"\n",
    "val_data_file_path = data_dir + \"/preprocessed_data/val_64_noreroofs.npy\""
   ]
  },
  {
   "cell_type": "code",
   "execution_count": 3,
   "metadata": {},
   "outputs": [],
   "source": [
    "import sys\n",
    "sys.path.append(\"/Users/Lisa/Desktop/Master Thesis/RoofNetXAI/roofnet/utils\")\n",
    "from data import ImageDataset"
   ]
  },
  {
   "cell_type": "code",
   "execution_count": 4,
   "metadata": {},
   "outputs": [
    {
     "name": "stdout",
     "output_type": "stream",
     "text": [
      "Loading data\n",
      "Done loading data\n",
      "Length 1050\n",
      "Num Roofs 150\n"
     ]
    },
    {
     "data": {
      "text/plain": [
       "(1050, 33)"
      ]
     },
     "execution_count": 4,
     "metadata": {},
     "output_type": "execute_result"
    }
   ],
   "source": [
    "# import Roofnet\n",
    "# from Roofnet.utils.data import ImageDataset\n",
    "from torchvision.transforms import transforms \n",
    "\n",
    "\n",
    "transform_chain = transforms.Compose([\n",
    "                        transforms.ToPILImage(mode='RGB'),\n",
    "                        transforms.ColorJitter(brightness=0.5, contrast=0.5, saturation=0.5, hue=0),\n",
    "                        transforms.ToTensor(),\n",
    "                        transforms.Normalize([0.,0.,0,], [1.,1.,1.]),   \n",
    "                        \n",
    "                            ])\n",
    "data = ImageDataset(data_file_path,\n",
    "                    transform=transform_chain)\n",
    "dataloader = torch.utils.data.DataLoader(data, batch_size=32, shuffle=True)\n",
    "len(data), len(dataloader)\n"
   ]
  },
  {
   "cell_type": "code",
   "execution_count": 5,
   "metadata": {},
   "outputs": [
    {
     "name": "stdout",
     "output_type": "stream",
     "text": [
      "<class 'tuple'>\n",
      "3\n",
      "tensor([[[0.5569, 0.5098, 0.4824,  ..., 0.1373, 0.2471, 0.3294],\n",
      "         [0.6118, 0.6118, 0.5765,  ..., 0.1451, 0.1412, 0.3059],\n",
      "         [0.5804, 0.6118, 0.6118,  ..., 0.1608, 0.1765, 0.2235],\n",
      "         ...,\n",
      "         [0.0980, 0.0941, 0.0980,  ..., 0.1765, 0.2784, 0.2902],\n",
      "         [0.2157, 0.2471, 0.2275,  ..., 0.2196, 0.2745, 0.2902],\n",
      "         [0.5765, 0.5765, 0.5529,  ..., 0.1961, 0.2000, 0.1529]],\n",
      "\n",
      "        [[0.5686, 0.5294, 0.5098,  ..., 0.1216, 0.2392, 0.3529],\n",
      "         [0.6235, 0.6314, 0.6000,  ..., 0.1255, 0.1216, 0.3176],\n",
      "         [0.5961, 0.6275, 0.6118,  ..., 0.1333, 0.1451, 0.2078],\n",
      "         ...,\n",
      "         [0.0980, 0.0980, 0.1059,  ..., 0.1765, 0.2706, 0.2824],\n",
      "         [0.2157, 0.2471, 0.2392,  ..., 0.2196, 0.2549, 0.2784],\n",
      "         [0.5804, 0.5804, 0.5529,  ..., 0.1922, 0.1922, 0.1529]],\n",
      "\n",
      "        [[0.5569, 0.5098, 0.4824,  ..., 0.1098, 0.2078, 0.2863],\n",
      "         [0.6078, 0.6118, 0.5725,  ..., 0.1137, 0.0980, 0.2588],\n",
      "         [0.5569, 0.5961, 0.5882,  ..., 0.1333, 0.1098, 0.1569],\n",
      "         ...,\n",
      "         [0.1020, 0.1020, 0.1098,  ..., 0.1765, 0.2706, 0.2745],\n",
      "         [0.2078, 0.2314, 0.2196,  ..., 0.2275, 0.2784, 0.2902],\n",
      "         [0.5451, 0.5412, 0.5255,  ..., 0.1922, 0.1804, 0.1294]]])\n"
     ]
    }
   ],
   "source": [
    "sample = data[0]  # get a sample from the dataset\n",
    "print(type(sample))\n",
    "print(len(sample))  # check the length of the tuple\n",
    "print(sample[0])  # check the shape of the image tensor"
   ]
  },
  {
   "cell_type": "code",
   "execution_count": 6,
   "metadata": {
    "collapsed": true
   },
   "outputs": [
    {
     "name": "stdout",
     "output_type": "stream",
     "text": [
      "torch.Size([32, 3, 64, 64])\n"
     ]
    }
   ],
   "source": [
    "# Fixed input for debugging\n",
    "fixed_x = next(iter(dataloader))\n",
    "fixed_x = fixed_x[0]\n",
    "print(fixed_x.shape)\n",
    "# torch.Size([32, 3, 255, 255]) or torch.Size([32, 3, 64, 64])"
   ]
  },
  {
   "cell_type": "code",
   "execution_count": 7,
   "metadata": {
    "scrolled": true
   },
   "outputs": [
    {
     "data": {
      "image/png": "[encoded data removed]",
      "text/plain": [
       "<IPython.core.display.Image object>"
      ]
     },
     "execution_count": 7,
     "metadata": {},
     "output_type": "execute_result"
    }
   ],
   "source": [
    "# can be skipped?\n",
    "# Check to see if data is loaded \n",
    "save_image(fixed_x, 'real_image.png')\n",
    "\n",
    "Image('real_image.png')"
   ]
  },
  {
   "cell_type": "code",
   "execution_count": 8,
   "metadata": {
    "collapsed": true
   },
   "outputs": [
    {
     "name": "stdout",
     "output_type": "stream",
     "text": [
      "64\n"
     ]
    }
   ],
   "source": [
    "# Set default parameters\n",
    "image_channels = fixed_x.size(1)\n",
    "\n",
    "img_dim = fixed_x.size(-1)\n",
    "print(img_dim)"
   ]
  },
  {
   "cell_type": "code",
   "execution_count": 9,
   "metadata": {
    "collapsed": true
   },
   "outputs": [],
   "source": [
    "from torch import device\n",
    "\n",
    "def loss_fn(recon_x, x, mu, logvar,beta=1.0):\n",
    "    x = x.to(device)\n",
    "    BCE = F.binary_cross_entropy(recon_x, x, size_average=False)\n",
    "    # see Appendix B from VAE paper:\n",
    "    # Kingma and Welling. Auto-Encoding Variational Bayes. ICLR, 2014\n",
    "    # 0.5 * sum(1 + log(sigma^2) - mu^2 - sigma^2)\n",
    "    KLD = -0.5 * torch.mean(1 + logvar - mu.pow(2) - logvar.exp())\n",
    "    KLD*=beta\n",
    "    return BCE + KLD, BCE, KLD"
   ]
  },
  {
   "cell_type": "code",
   "execution_count": 10,
   "metadata": {},
   "outputs": [],
   "source": [
    "sys.path.append(\"/Users/Lisa/Desktop/Master Thesis/RoofNetXAI/roofnet/models\")\n",
    "from vae import VAE\n"
   ]
  },
  {
   "cell_type": "code",
   "execution_count": 11,
   "metadata": {
    "collapsed": true
   },
   "outputs": [],
   "source": [
    "device = torch.device('cuda' if torch.cuda.is_available() else 'cpu')\n",
    "\n",
    "model = VAE(img_dim = img_dim, image_channels=image_channels, z_dim=128,device=device).to(device)"
   ]
  },
  {
   "cell_type": "code",
   "execution_count": 12,
   "metadata": {
    "collapsed": true
   },
   "outputs": [],
   "source": [
    "optimizer = torch.optim.Adam(model.parameters(), lr=1e-3) "
   ]
  },
  {
   "cell_type": "code",
   "execution_count": 13,
   "metadata": {},
   "outputs": [
    {
     "data": {
      "text/plain": [
       "VAE(\n",
       "  (encoder): Sequential(\n",
       "    (0): Conv2d(3, 32, kernel_size=(4, 4), stride=(2, 2))\n",
       "    (1): ReLU()\n",
       "    (2): Conv2d(32, 64, kernel_size=(4, 4), stride=(2, 2))\n",
       "    (3): ReLU()\n",
       "    (4): Conv2d(64, 128, kernel_size=(4, 4), stride=(2, 2))\n",
       "    (5): ReLU()\n",
       "    (6): Conv2d(128, 256, kernel_size=(4, 4), stride=(2, 2))\n",
       "    (7): ReLU()\n",
       "    (8): Flatten()\n",
       "  )\n",
       "  (decoder): Sequential(\n",
       "    (0): UnFlatten()\n",
       "    (1): ConvTranspose2d(1024, 128, kernel_size=(5, 5), stride=(2, 2))\n",
       "    (2): ReLU()\n",
       "    (3): ConvTranspose2d(128, 64, kernel_size=(5, 5), stride=(2, 2))\n",
       "    (4): ReLU()\n",
       "    (5): ConvTranspose2d(64, 32, kernel_size=(6, 6), stride=(2, 2))\n",
       "    (6): ReLU()\n",
       "    (7): ConvTranspose2d(32, 3, kernel_size=(6, 6), stride=(2, 2))\n",
       "    (8): Sigmoid()\n",
       "  )\n",
       "  (fc1): Linear(in_features=1024, out_features=128, bias=True)\n",
       "  (fc2): Linear(in_features=1024, out_features=128, bias=True)\n",
       "  (fc3): Linear(in_features=128, out_features=1024, bias=True)\n",
       ")"
      ]
     },
     "execution_count": 13,
     "metadata": {},
     "output_type": "execute_result"
    }
   ],
   "source": [
    "model = VAE(img_dim=64,image_channels=image_channels,z_dim=128,device=device).to(device)\n",
    "model.load_state_dict(torch.load('/Users/Lisa/Desktop/Master Thesis/RoofNetXAI/saved_models_2.0/roofnet_VAE_64_1.pth'))\n",
    "model.eval()"
   ]
  },
  {
   "cell_type": "markdown",
   "metadata": {},
   "source": [
    "# Compare real image and reconstruction\n",
    "\n",
    "Note: VAEs are known to generate blurry. The reason is that the latent code is trying to compress as much info as possible and only focus on the meaningful features."
   ]
  },
  {
   "cell_type": "code",
   "execution_count": 14,
   "metadata": {
    "collapsed": true
   },
   "outputs": [],
   "source": [
    "#64x64\n",
    "sys.path.append(\"/Users/Lisa/Desktop/Master Thesis/RoofNetXAI/roofnet/models\")\n",
    "from vae import VAE\n",
    "\n",
    "# change to the name of the model you want to load\n",
    "model = VAE(img_dim=64,image_channels=image_channels,z_dim=128,device=device).to(device)\n",
    "model.load_state_dict(torch.load(model_dir + '/roofnet_VAE_64_1.pth'))\n",
    "val_data_file_path = data_dir + \"preprocessed_data/val_64_noreroofs.npy\""
   ]
  },
  {
   "cell_type": "code",
   "execution_count": null,
   "metadata": {
    "collapsed": true,
    "jupyter": {
     "outputs_hidden": true
    }
   },
   "outputs": [],
   "source": [
    "#255x255\n",
    "# JUST WORKING WITH 64x64 IMAGES \n",
    "model_dir_old = \"/Users/Lisa/Desktop/Master Thesis/RoofNetXAI/saved_models\"\n",
    "model = VAE(img_dim=255,image_channels=image_channels,z_dim=128,device=device).to(device)\n",
    "model.load_state_dict(torch.load((model_dir_old +'/roofnet_VAE_hard.pth'),  map_location=torch.device('cpu')))\n",
    "val_data_file_path = data_dir + \"preprocessed_data/val_64_noreroofs.npy\""
   ]
  },
  {
   "cell_type": "code",
   "execution_count": 15,
   "metadata": {
    "collapsed": true
   },
   "outputs": [],
   "source": [
    "# compare original and reconstructed images\n",
    "def compare(x):\n",
    "    x=x.to(device)\n",
    "    recon_x,_, _, _ = model(x)\n",
    "    return torch.cat([x, recon_x])"
   ]
  },
  {
   "cell_type": "code",
   "execution_count": 16,
   "metadata": {},
   "outputs": [
    {
     "data": {
      "image/png": "[encoded data removed]",
      "text/plain": [
       "<IPython.core.display.Image object>"
      ]
     },
     "metadata": {
      "image/png": {
       "unconfined": true,
       "width": 700
      }
     },
     "output_type": "display_data"
    }
   ],
   "source": [
    "fixed_x = next(iter(dataloader))[0][:1]\n",
    "compare_x = compare(fixed_x)\n",
    "\n",
    "save_image(compare_x.data.cpu(), 'sample_image.png')\n",
    "display(Image('sample_image.png', width=700, unconfined=True))"
   ]
  },
  {
   "cell_type": "markdown",
   "metadata": {},
   "source": [
    "# Use validation data to make predicitons"
   ]
  },
  {
   "cell_type": "code",
   "execution_count": 17,
   "metadata": {},
   "outputs": [
    {
     "name": "stdout",
     "output_type": "stream",
     "text": [
      "Loading data\n",
      "Done loading data\n",
      "Length 175\n",
      "Num Roofs 25\n"
     ]
    }
   ],
   "source": [
    "transform_chain = transforms.Compose([\n",
    "                        transforms.ToTensor(),\n",
    "                        transforms.Normalize([0.,0.,0,], [1.,1.,1.]),   \n",
    "                        \n",
    "                            ])\n",
    "val_data = ImageDataset(val_data_file_path,\n",
    "                    transform=transform_chain)"
   ]
  },
  {
   "cell_type": "code",
   "execution_count": 18,
   "metadata": {
    "collapsed": true,
    "jupyter": {
     "outputs_hidden": true
    }
   },
   "outputs": [],
   "source": [
    "val_dataloader = torch.utils.data.DataLoader(val_data, batch_size=7, shuffle=False)\n",
    "val_dataloader = iter(val_dataloader)"
   ]
  },
  {
   "cell_type": "code",
   "execution_count": 19,
   "metadata": {},
   "outputs": [
    {
     "data": {
      "image/png": "[encoded data removed]",
      "text/plain": [
       "<IPython.core.display.Image object>"
      ]
     },
     "metadata": {
      "image/png": {
       "unconfined": true,
       "width": 700
      }
     },
     "output_type": "display_data"
    }
   ],
   "source": [
    "fixed_x = next(iter(val_dataloader))[0][:1]\n",
    "compare_x = compare(fixed_x)\n",
    "\n",
    "save_image(compare_x.data.cpu(), 'sample_image.png')\n",
    "display(Image('sample_image.png', width=700, unconfined=True))"
   ]
  },
  {
   "cell_type": "code",
   "execution_count": 20,
   "metadata": {
    "collapsed": true,
    "jupyter": {
     "outputs_hidden": true
    }
   },
   "outputs": [],
   "source": [
    "out = []\n",
    "latents = []\n",
    "meta = []\n",
    "for i in val_dataloader:\n",
    "    images = i[0]\n",
    "    recon_images,z, _, _ = model(images.to(device))\n",
    "    z = z.detach().cpu().numpy()\n",
    "    latents.append(z)\n",
    "    meta.append([i[2]['address'][0],int(i[2]['transition_year'][0].cpu().numpy())])\n",
    "    d = int(np.argmax([np.linalg.norm(zi-zj) for zi,zj in zip(z[1:],z[:-1])]))+2013\n",
    "    out.append([i[2]['address'][0],d,int(i[2]['transition_year'][0].cpu().numpy())])\n",
    "out = np.array(out)\n",
    "latents = np.array(latents)"
   ]
  },
  {
   "cell_type": "code",
   "execution_count": 21,
   "metadata": {},
   "outputs": [
    {
     "name": "stdout",
     "output_type": "stream",
     "text": [
      "0.3333333333333333\n"
     ]
    }
   ],
   "source": [
    "hold = 0\n",
    "l = 0\n",
    "for i in out:\n",
    "    if i[2] != 0:\n",
    "        l += 1\n",
    "        if i[1]==i[2]:\n",
    "            hold += 1\n",
    "print(hold/l)"
   ]
  },
  {
   "cell_type": "markdown",
   "metadata": {},
   "source": [
    "# Build binary classifier on latents"
   ]
  },
  {
   "cell_type": "code",
   "execution_count": 23,
   "metadata": {
    "collapsed": true
   },
   "outputs": [],
   "source": [
    "from torch.autograd import Variable"
   ]
  },
  {
   "cell_type": "markdown",
   "metadata": {},
   "source": [
    "## Helper functions:"
   ]
  },
  {
   "cell_type": "code",
   "execution_count": 24,
   "metadata": {
    "collapsed": true
   },
   "outputs": [],
   "source": [
    "# Inputs: latent image 1, latent image 2, classification model, and prob threshold\n",
    "# Returns binary classification, 1 for reroof, 0 for none.\n",
    "# classifying two images as reroof if the probability is greater than the threshold\n",
    "\n",
    "def classify_image_pair(latent_1,latent_2,model,prob_threshold=0.5):    # model is the classification model\n",
    "    v_1 = np.hstack((latent_1,latent_2)) # concatenate the two latent vectors\n",
    "    v_2 = np.hstack((latent_2,latent_1)) # concatenate the two latent vectors\n",
    "    model.eval()\n",
    "    p_1 = net(torch.tensor(v_1).to(device)) # pass the concatenated latent vectors to the classification model\n",
    "    p_2 = net(torch.tensor(v_2).to(device)) # pass the concatenated latent vectors to the classification model\n",
    "    prob = max([p_1.item(),p_2.item()]) # take the max probability\n",
    "    return prob >= prob_threshold # return 1 if the probability is greater than the threshold, 0 otherwise"
   ]
  },
  {
   "cell_type": "code",
   "execution_count": 25,
   "metadata": {
    "collapsed": true
   },
   "outputs": [],
   "source": [
    "# Input: Latents for a building, meta for building, model, and threshold\n",
    "# Output: [Address, predicted_transition, actual_transition]\n",
    "# Returns transition year based on first transition detected\n",
    "# If no transition detected, returns 0\n",
    "def gen_predictions(latents,meta,model,prob_threshold=0.5): \n",
    "    out = [] \n",
    "    for i in range(len(latents)): # for each building\n",
    "        hold = [] # hold the address, predicted transition year, and actual transition year\n",
    "        hold.append(str(meta[i][0])) # append the address\n",
    "        trans_year = 0 # initialize the transition year\n",
    "        for j in range(len(latents[i])-1): # for each pair of latent vectors\n",
    "            if classify_image_pair(latents[i][j],latents[i][j+1],model,prob_threshold=prob_threshold): # if the pair is classified as a reroof\n",
    "                trans_year = j + 2013   # set the transition year to the year of the pair\n",
    "                break\n",
    "        hold.append(trans_year)  # append the transition year\n",
    "        hold.append(int(meta[i][1])) # append the actual transition year\n",
    "        out.append(hold) # append the list to the output\n",
    "    return np.array(out) # return the output as an array"
   ]
  },
  {
   "cell_type": "code",
   "execution_count": 26,
   "metadata": {
    "collapsed": true
   },
   "outputs": [],
   "source": [
    "# Input: Latents for a building, meta for building, model, and threshold\n",
    "# Output: [Address, predicted_transition, actual_transition]\n",
    "# Returns transition year based on highest probability\n",
    "# If no transition detected, returns 0\n",
    "def get_max_prob(latents,meta,model,prob_threshold=0.5): \n",
    "    out = []\n",
    "    for i in range(len(latents)): # for each building\n",
    "        hold = []  # hold the address, predicted transition year, and actual transition year\n",
    "        hold.append(str(meta[i][0]))   # append the address\n",
    "        trans_year = 0\n",
    "        temp = [] # hold the probabilities\n",
    "        for j in range(len(latents[i])-1): # for each pair of latent vectors\n",
    "            latent_1 = latents[i][j] # get the latent vectors\n",
    "            latent_2 = latents[i][j+1] # get the latent vectors\n",
    "            v_1 = np.hstack((latent_1,latent_2)) # concatenate the latent vectors\n",
    "            v_2 = np.hstack((latent_2,latent_1)) # concatenate the latent vectors\n",
    "            model.eval()\n",
    "            p_1 = net(torch.tensor(v_1).to(device)) # pass the concatenated latent vectors to the classification model\n",
    "            p_2 = net(torch.tensor(v_2).to(device)) # pass the concatenated latent vectors to the classification model\n",
    "            prob = max([p_1.item(),p_2.item()]) # take the max probability\n",
    "            temp.append(prob) # append the probability\n",
    "        index = np.argmax(temp)     # get the index of the max probability\n",
    "        if temp[index]>=prob_threshold: # if the max probability is greater than the threshold\n",
    "            trans_year = 2013 + index # set the transition year to the year of the max probability \n",
    "        hold.append(trans_year) # append the transition year\n",
    "        hold.append(int(meta[i][1]))       # append the actual transition year\n",
    "        out.append(hold)    # append the list to the output\n",
    "    return np.array(out)    # return the output as an array"
   ]
  },
  {
   "cell_type": "code",
   "execution_count": 27,
   "metadata": {
    "collapsed": true
   },
   "outputs": [],
   "source": [
    "# Generates accuracy metrics for detecting reroof and predicting reroof date\n",
    "# No reroof is defined as a building that has no reroof in the dataset\n",
    "# Reroof is defined as a building that has a reroof in the dataset\n",
    "def gen_metrics(acc_metric, latents, meta, model, threshold=0.5):   \n",
    "    no_reroof_pred = [] # hold the predictions for buildings with no reroof\n",
    "    reroof_pred = [] # hold the predictions for buildings with a reroof\n",
    "    hold = acc_metric(latents,meta, net ,threshold) # get the predictions\n",
    "    print(\"Overall accuracy: {:0.3f}\".format(np.mean(hold[:,1]==hold[:,2]))) # print the overall accuracy\n",
    "    for i in hold: # for each building\n",
    "        if int(i[2])==0:    # if the building has no reroof\n",
    "            no_reroof_pred.append(int(int(i[1]) == 0))      # append the prediction\n",
    "        else:\n",
    "            reroof_pred.append(int(i[1]==i[2]))         # append the prediction\n",
    "    print(\"No reroof prediction accuracy: {:0.3f}\".format(np.mean(no_reroof_pred)))\n",
    "    print(\"Reroof prediction accuracy: {:0.3f}\".format(np.mean(reroof_pred)))\n",
    "    return hold"
   ]
  },
  {
   "cell_type": "code",
   "execution_count": 28,
   "metadata": {
    "collapsed": true
   },
   "outputs": [],
   "source": [
    "# Inputs: file path for data\n",
    "# Outputs: Dataloader for training\n",
    "\n",
    "def gen_dataloader(data_file_path):     \n",
    "    transform_chain = transforms.Compose([\n",
    "                        transforms.ToTensor(),\n",
    "                        transforms.Normalize([0.,0.,0,], [1.,1.,1.]),   \n",
    "                        \n",
    "                            ])\n",
    "    data = ImageDataset(data_file_path,\n",
    "                        transform=transform_chain)\n",
    "\n",
    "    dataloader = torch.utils.data.DataLoader(data, batch_size=7, shuffle=False)\n",
    "    dataloader = iter(dataloader)\n",
    "    return dataloader"
   ]
  },
  {
   "cell_type": "code",
   "execution_count": 29,
   "metadata": {
    "collapsed": true
   },
   "outputs": [],
   "source": [
    "# Input: dataloader, latent generating model\n",
    "# Outputs: Latents generate by model, meta data for buildings\n",
    "# Generates latents for all buildings in dataloader\n",
    "\n",
    "def gen_latents(dataloader, model): # generate latents for all buildings in dataloader\n",
    "    latents = [] # hold the latents for the buildings\n",
    "    meta = [] # hold the meta data for the buildings\n",
    "    for i in dataloader: # for each building\n",
    "        images = i[0] # get the images\n",
    "        _, z, _, _ = model(images.to(\n",
    "            \n",
    "        )) # get the latents\n",
    "        z = z.detach().cpu().numpy()    # detach the latents in order to append to list\n",
    "        latents.append(z)  # append the latents\n",
    "        meta.append([i[2]['address'][0],int(i[2]['transition_year'][0].cpu().numpy())])     # append the meta data\n",
    "    latents = np.array(latents)     # convert the latents to an array\n",
    "    return latents, meta    "
   ]
  },
  {
   "cell_type": "code",
   "execution_count": 30,
   "metadata": {
    "collapsed": true
   },
   "outputs": [],
   "source": [
    "# Inputs: Latents of data, meta for building\n",
    "# Output: All possible pairs of latent images and their label 1:reroof, 0:no reroof\n",
    "# Generates all possible pairs of latent images and their label 1:reroof, 0:no reroof\n",
    "# Used for training binary classifier\n",
    "\n",
    "def gen_binary_data(latents, meta):         # generate all possible pairs of latent images and their label 1:reroof, 0:no reroof\n",
    "    data_hold = []  # hold the latent pairs\n",
    "    label_hold = []     # hold the labels\n",
    "    for i in range(len(latents)):   # for each building\n",
    "        for j in range(len(latents[i])):    # for each latent vector\n",
    "            for k in range(len(latents[i])):        # for each latent vector\n",
    "                data_hold.append(np.hstack((latents[i][j],latents[i][k])))      # append the latent pair\n",
    "                year_j = 2012+j < meta[i][1]        # get the year of the latent vector\n",
    "                year_k = 2012+k < meta[i][1]        # get the year of the latent vector\n",
    "                label_hold.append(float(year_j != year_k))    # append the label\n",
    "    data_hold = np.array(data_hold)     # convert the data to an array\n",
    "    label_hold = np.array(label_hold)   # convery the labels to an array\n",
    "    \n",
    "    return data_hold, label_hold"
   ]
  },
  {
   "cell_type": "markdown",
   "metadata": {},
   "source": [
    "## Load the data"
   ]
  },
  {
   "cell_type": "code",
   "execution_count": 31,
   "metadata": {},
   "outputs": [
    {
     "name": "stdout",
     "output_type": "stream",
     "text": [
      "Loading data\n",
      "Done loading data\n",
      "Length 1050\n",
      "Num Roofs 150\n"
     ]
    }
   ],
   "source": [
    "# z_dim = 128 is the dimension of the latent space\n",
    "model = VAE(img_dim=64,image_channels=image_channels,z_dim=128,device=device).to(device)\n",
    "model.load_state_dict(torch.load(model_dir + 'roofnet_VAE_64_1.pth'))\n",
    "data_dir = \"/Users/Lisa/Desktop/Master Thesis/RoofNetXAI/\"\n",
    "data_file_path = data_dir + \"preprocessed_data/train_64_noreroofs.npy\"  # here was biased DATA THOUGHT FOR TRAINING\n",
    "\n",
    "binary_dataloader = gen_dataloader(data_file_path)"
   ]
  },
  {
   "cell_type": "code",
   "execution_count": 32,
   "metadata": {},
   "outputs": [
    {
     "name": "stdout",
     "output_type": "stream",
     "text": [
      "Loading data\n",
      "Done loading data\n",
      "Length 175\n",
      "Num Roofs 25\n"
     ]
    }
   ],
   "source": [
    "val_data_file_path = data_dir + \"preprocessed_data/val_64_noreroofs.npy\"\n",
    "\n",
    "binary_val_dataloader = gen_dataloader(val_data_file_path)"
   ]
  },
  {
   "cell_type": "code",
   "execution_count": 33,
   "metadata": {},
   "outputs": [
    {
     "name": "stdout",
     "output_type": "stream",
     "text": [
      "Loading data\n",
      "Done loading data\n",
      "Length 385\n",
      "Num Roofs 55\n"
     ]
    }
   ],
   "source": [
    "test_data_file_path = data_dir + \"/preprocessed_data/test_64_noreroofs.npy\"\n",
    "\n",
    "binary_test_dataloader = gen_dataloader(test_data_file_path)"
   ]
  },
  {
   "cell_type": "code",
   "execution_count": 34,
   "metadata": {
    "collapsed": true
   },
   "outputs": [
    {
     "name": "stdout",
     "output_type": "stream",
     "text": [
      "(150, 7, 128)\n"
     ]
    }
   ],
   "source": [
    "\n",
    "latents, meta = gen_latents(binary_dataloader, model)\n",
    "print(latents.shape)"
   ]
  },
  {
   "cell_type": "code",
   "execution_count": 35,
   "metadata": {
    "collapsed": true
   },
   "outputs": [
    {
     "name": "stdout",
     "output_type": "stream",
     "text": [
      "(25, 7, 128)\n"
     ]
    }
   ],
   "source": [
    "val_latents, val_meta = gen_latents(binary_val_dataloader, model)\n",
    "print(val_latents.shape)"
   ]
  },
  {
   "cell_type": "code",
   "execution_count": 36,
   "metadata": {
    "collapsed": true
   },
   "outputs": [],
   "source": [
    "test_latents, test_meta = gen_latents(binary_test_dataloader, model)"
   ]
  },
  {
   "cell_type": "code",
   "execution_count": 37,
   "metadata": {
    "collapsed": true
   },
   "outputs": [
    {
     "name": "stdout",
     "output_type": "stream",
     "text": [
      "(7350, 256)\n",
      "[[ 0.08942599  0.822892    0.01150982 ... -0.23458739  0.7953519\n",
      "   0.1372779 ]\n",
      " [ 0.08942599  0.822892    0.01150982 ... -0.28982186  0.63982475\n",
      "   0.15717435]\n",
      " [ 0.08942599  0.822892    0.01150982 ... -0.29630652  0.8482732\n",
      "   0.16142109]\n",
      " ...\n",
      " [ 0.3802059   0.20690262 -0.50834626 ... -0.1215544  -1.8190364\n",
      "   0.64298695]\n",
      " [ 0.3802059   0.20690262 -0.50834626 ... -0.0921233  -1.3265284\n",
      "   0.6046756 ]\n",
      " [ 0.3802059   0.20690262 -0.50834626 ... -0.10526737 -1.4725326\n",
      "   0.6475029 ]]\n",
      "(7350,)\n"
     ]
    }
   ],
   "source": [
    "data_hold, label_hold = gen_binary_data(latents, meta)\n",
    "\n",
    "print(data_hold.shape)\n",
    "print(data_hold)\n",
    "print(label_hold.shape)"
   ]
  },
  {
   "cell_type": "code",
   "execution_count": 38,
   "metadata": {
    "collapsed": true
   },
   "outputs": [
    {
     "name": "stdout",
     "output_type": "stream",
     "text": [
      "(1225, 256)\n"
     ]
    }
   ],
   "source": [
    "val_hold, val_label = gen_binary_data(val_latents, val_meta)\n",
    "print(val_hold.shape)"
   ]
  },
  {
   "cell_type": "code",
   "execution_count": 39,
   "metadata": {
    "collapsed": true
   },
   "outputs": [
    {
     "name": "stdout",
     "output_type": "stream",
     "text": [
      "(2695, 256)\n"
     ]
    }
   ],
   "source": [
    "test_hold, test_label = gen_binary_data(test_latents, test_meta)\n",
    "print(test_hold.shape)\n"
   ]
  },
  {
   "cell_type": "code",
   "execution_count": 40,
   "metadata": {},
   "outputs": [
    {
     "name": "stdout",
     "output_type": "stream",
     "text": [
      "Reroof count: 1828\n",
      "No Reroof count: 5522\n"
     ]
    }
   ],
   "source": [
    "# to check the number of reroofs and no reroofs in the dataset\n",
    "# it is because we have 7 images for builidings and if there is a reroof, the count of reroofs will be smaller\n",
    "reroof_count = np.sum(label_hold == 1)\n",
    "no_reroof_count = np.sum(label_hold == 0)\n",
    "\n",
    "print(f\"Reroof count: {reroof_count}\")\n",
    "print(f\"No Reroof count: {no_reroof_count}\")\n"
   ]
  },
  {
   "attachments": {},
   "cell_type": "markdown",
   "metadata": {},
   "source": [
    "# Training Phase"
   ]
  },
  {
   "attachments": {},
   "cell_type": "markdown",
   "metadata": {},
   "source": [
    "## Binary Classifier SotA"
   ]
  },
  {
   "cell_type": "code",
   "execution_count": 41,
   "metadata": {},
   "outputs": [],
   "source": [
    "# train_epoch for binary classifier\n",
    "\n",
    "def binary_train_epoch(model, opt, criterion, data, labels, data_loader, val_data, val_labels, val_data_loader, best_acc, logit=False):\n",
    "    \n",
    "    best_model_wts = copy.deepcopy(model.state_dict()) # save best model weights\n",
    "    \n",
    "    model.train() # set model to training mode\n",
    "    loss_hold = [] # hold loss for each batch\n",
    "    \n",
    "    for i in iter(data_loader): # iterate through batches\n",
    "        batch_size = len(i)   # get batch size\n",
    "        x_batch = data[i]   # get batch data \n",
    "        y_batch = labels[i]    # get batch labels\n",
    "        \n",
    "        x_batch = Variable(torch.from_numpy(x_batch)) # convert to torch variable\n",
    "        y_batch = torch.tensor(y_batch, dtype=torch.float, device=device)       # convert to torch variable\n",
    "        y_batch = y_batch.view(batch_size,-1)       # reshape to batch size\n",
    "        \n",
    "        opt.zero_grad()         # zero the parameter gradients\n",
    "        y_hat = model(x_batch.to(model.device))         # forward pass, after the data is on the correct device, it is passed through the model\n",
    "        loss = criterion(y_hat,y_batch)     # calculate loss \n",
    "        loss.backward()         # backward pass\n",
    "        opt.step()          # update parameters\n",
    "        \n",
    "        loss_hold.append(loss.item()/batch_size)            # append loss\n",
    "    print(\"Epoch training loss:{:.3f}\".format(np.mean(loss_hold)))   # print epoch loss\n",
    "    \n",
    "    #validate  \n",
    "\n",
    "    model.eval()\n",
    "    pred_acc = [] # hold prediction accuracy for each batch\n",
    "    for i in iter(val_data_loader):     # iterate through batches\n",
    "        batch_size = len(i)     # get batch size\n",
    "        x_batch = val_data[i]       # get batch data\n",
    "        y_batch = val_labels[i]     # get batch labels\n",
    "        \n",
    "        x_batch = Variable(torch.from_numpy(x_batch))   # convert to torch variable\n",
    "        \n",
    "        if logit:   # if logit, use sigmoid\n",
    "            y_logits = model(x_batch.to(model.device))       # forward pass\n",
    "            s = nn.Sigmoid()    # sigmoid function\n",
    "            y_hat = s(y_logits) > 0.5     # get prediction\n",
    "        else:\n",
    "            y_hat = model(x_batch.to(model.device))>0.5     # forward pass, get prediction\n",
    "        \n",
    "        pred_acc.append(np.mean(y_hat.cpu().numpy() == y_batch.reshape(batch_size,-1))) # append prediction accuracy\n",
    "        \n",
    "    pred_acc = np.mean(pred_acc)    # get epoch prediction accuracy\n",
    "    print(\"Epoch validation accuracy: {:.3f}%\".format(pred_acc))        # print epoch prediction accuracy\n",
    "    \n",
    "    if pred_acc >= best_acc:        # if epoch prediction accuracy is better than best prediction accuracy\n",
    "        best_model_wts = copy.deepcopy(model.state_dict()) # save best model weights\n",
    "        best_acc = pred_acc     # update best prediction accuracy\n",
    "    \n",
    "    net.load_state_dict(best_model_wts)     # load best model weights\n",
    "    \n",
    "    return net, best_acc \n",
    "        \n",
    "        "
   ]
  },
  {
   "cell_type": "code",
   "execution_count": 42,
   "metadata": {},
   "outputs": [],
   "source": [
    "class Net(nn.Module): # binary classifier\n",
    "    \n",
    "    def __init__(self, zdim = 128): # initialize network # zdim is the dimension of the latent vector\n",
    "        super().__init__()  # inherit from nn.Module\n",
    "        \n",
    "        self.device = torch.device(\"cuda:0\" if torch.cuda.is_available() else \"cpu\")    # get device\n",
    "        \n",
    "        self.network = nn.Sequential( # define network\n",
    "            nn.Linear(2*zdim, 2*zdim), # input layer\n",
    "            nn.ReLU(),  # activation function\n",
    "            nn.Dropout(0.2),    # dropout\n",
    "            nn.Linear(2*zdim, zdim),   # hidden layer\n",
    "            nn.ReLU(), # activation function\n",
    "            nn.Dropout(0.2),   # dropout\n",
    "            nn.Linear(zdim, 64),    # hidden layer\n",
    "            nn.ReLU(),  # activation function\n",
    "            nn.Dropout(0.2),    # dropout\n",
    "            nn.Linear(64, 1),   # output layer\n",
    "            nn.Sigmoid()    # sigmoid function\n",
    "        ).to(self.device)       # send network to device\n",
    "              \n",
    "    \n",
    "    def forward(self, x):\n",
    "        y = self.network(x)    # forward pass\n",
    "        return y   # return output of network (prediction)\n",
    "    \n",
    "net = Net()    \n",
    "opt = torch.optim.Adam(net.parameters(), lr=0.001, betas=(0.9, 0.999))\n",
    "criterion = nn.BCELoss()    # binary cross entropy loss\n",
    "\n"
   ]
  },
  {
   "cell_type": "code",
   "execution_count": 43,
   "metadata": {},
   "outputs": [],
   "source": [
    "def save_model(model, run, epoch, folder='binary_classifier_sota_2'):\n",
    "    if not os.path.exists(folder):\n",
    "        os.makedirs(folder)  # Create the folder if it doesn't exist\n",
    "    filename = f'model_run_sota_2_{run + 1}.pth'\n",
    "    torch.save(model.state_dict(), os.path.join(folder, filename))"
   ]
  },
  {
   "cell_type": "code",
   "execution_count": 44,
   "metadata": {},
   "outputs": [],
   "source": [
    "index_loader = torch.utils.data.DataLoader(np.arange(len(data_hold)),batch_size=32,shuffle=True) # index loader is used to shuffle the data\n",
    "val_index_loader = torch.utils.data.DataLoader(np.arange(len(val_hold)),batch_size=32,shuffle=True)"
   ]
  },
  {
   "cell_type": "code",
   "execution_count": 45,
   "metadata": {},
   "outputs": [
    {
     "name": "stdout",
     "output_type": "stream",
     "text": [
      "Training run: 1/5\n",
      "Running epoch 1/10\n",
      "Epoch training loss:0.014\n",
      "Epoch validation accuracy: 0.889%\n",
      "Running epoch 2/10\n",
      "Epoch training loss:0.008\n",
      "Epoch validation accuracy: 0.899%\n",
      "Running epoch 3/10\n",
      "Epoch training loss:0.006\n",
      "Epoch validation accuracy: 0.896%\n",
      "Running epoch 4/10\n",
      "Epoch training loss:0.006\n",
      "Epoch validation accuracy: 0.898%\n",
      "Running epoch 5/10\n",
      "Epoch training loss:0.006\n",
      "Epoch validation accuracy: 0.897%\n",
      "Running epoch 6/10\n",
      "Epoch training loss:0.006\n",
      "Epoch validation accuracy: 0.915%\n",
      "Running epoch 7/10\n",
      "Epoch training loss:0.005\n",
      "Epoch validation accuracy: 0.907%\n",
      "Running epoch 8/10\n",
      "Epoch training loss:0.005\n",
      "Epoch validation accuracy: 0.900%\n",
      "Running epoch 9/10\n",
      "Epoch training loss:0.005\n",
      "Epoch validation accuracy: 0.898%\n",
      "Running epoch 10/10\n",
      "Epoch training loss:0.005\n",
      "Epoch validation accuracy: 0.915%\n",
      "Training run: 2/5\n",
      "Running epoch 1/10\n",
      "Epoch training loss:0.013\n",
      "Epoch validation accuracy: 0.862%\n",
      "Running epoch 2/10\n",
      "Epoch training loss:0.008\n",
      "Epoch validation accuracy: 0.902%\n",
      "Running epoch 3/10\n",
      "Epoch training loss:0.006\n",
      "Epoch validation accuracy: 0.902%\n",
      "Running epoch 4/10\n",
      "Epoch training loss:0.005\n",
      "Epoch validation accuracy: 0.900%\n",
      "Running epoch 5/10\n",
      "Epoch training loss:0.005\n",
      "Epoch validation accuracy: 0.884%\n",
      "Running epoch 6/10\n",
      "Epoch training loss:0.005\n",
      "Epoch validation accuracy: 0.909%\n",
      "Running epoch 7/10\n",
      "Epoch training loss:0.004\n",
      "Epoch validation accuracy: 0.901%\n",
      "Running epoch 8/10\n",
      "Epoch training loss:0.004\n",
      "Epoch validation accuracy: 0.899%\n",
      "Running epoch 9/10\n",
      "Epoch training loss:0.004\n",
      "Epoch validation accuracy: 0.895%\n",
      "Running epoch 10/10\n",
      "Epoch training loss:0.004\n",
      "Epoch validation accuracy: 0.911%\n",
      "Training run: 3/5\n",
      "Running epoch 1/10\n",
      "Epoch training loss:0.014\n",
      "Epoch validation accuracy: 0.875%\n",
      "Running epoch 2/10\n",
      "Epoch training loss:0.008\n",
      "Epoch validation accuracy: 0.905%\n",
      "Running epoch 3/10\n",
      "Epoch training loss:0.006\n",
      "Epoch validation accuracy: 0.908%\n",
      "Running epoch 4/10\n",
      "Epoch training loss:0.005\n",
      "Epoch validation accuracy: 0.915%\n",
      "Running epoch 5/10\n",
      "Epoch training loss:0.004\n",
      "Epoch validation accuracy: 0.907%\n",
      "Running epoch 6/10\n",
      "Epoch training loss:0.004\n",
      "Epoch validation accuracy: 0.907%\n",
      "Running epoch 7/10\n",
      "Epoch training loss:0.004\n",
      "Epoch validation accuracy: 0.905%\n",
      "Running epoch 8/10\n",
      "Epoch training loss:0.004\n",
      "Epoch validation accuracy: 0.917%\n",
      "Running epoch 9/10\n",
      "Epoch training loss:0.004\n",
      "Epoch validation accuracy: 0.914%\n",
      "Running epoch 10/10\n",
      "Epoch training loss:0.004\n",
      "Epoch validation accuracy: 0.908%\n",
      "Training run: 4/5\n",
      "Running epoch 1/10\n",
      "Epoch training loss:0.014\n",
      "Epoch validation accuracy: 0.869%\n",
      "Running epoch 2/10\n",
      "Epoch training loss:0.008\n",
      "Epoch validation accuracy: 0.907%\n",
      "Running epoch 3/10\n",
      "Epoch training loss:0.006\n",
      "Epoch validation accuracy: 0.913%\n",
      "Running epoch 4/10\n",
      "Epoch training loss:0.005\n",
      "Epoch validation accuracy: 0.898%\n",
      "Running epoch 5/10\n",
      "Epoch training loss:0.005\n",
      "Epoch validation accuracy: 0.906%\n",
      "Running epoch 6/10\n",
      "Epoch training loss:0.005\n",
      "Epoch validation accuracy: 0.911%\n",
      "Running epoch 7/10\n",
      "Epoch training loss:0.005\n",
      "Epoch validation accuracy: 0.905%\n",
      "Running epoch 8/10\n",
      "Epoch training loss:0.005\n",
      "Epoch validation accuracy: 0.915%\n",
      "Running epoch 9/10\n",
      "Epoch training loss:0.004\n",
      "Epoch validation accuracy: 0.903%\n",
      "Running epoch 10/10\n",
      "Epoch training loss:0.004\n",
      "Epoch validation accuracy: 0.905%\n",
      "Training run: 5/5\n",
      "Running epoch 1/10\n",
      "Epoch training loss:0.014\n",
      "Epoch validation accuracy: 0.883%\n",
      "Running epoch 2/10\n",
      "Epoch training loss:0.008\n",
      "Epoch validation accuracy: 0.905%\n",
      "Running epoch 3/10\n",
      "Epoch training loss:0.007\n",
      "Epoch validation accuracy: 0.896%\n",
      "Running epoch 4/10\n",
      "Epoch training loss:0.007\n",
      "Epoch validation accuracy: 0.914%\n",
      "Running epoch 5/10\n",
      "Epoch training loss:0.005\n",
      "Epoch validation accuracy: 0.903%\n",
      "Running epoch 6/10\n",
      "Epoch training loss:0.005\n",
      "Epoch validation accuracy: 0.911%\n",
      "Running epoch 7/10\n",
      "Epoch training loss:0.005\n",
      "Epoch validation accuracy: 0.905%\n",
      "Running epoch 8/10\n",
      "Epoch training loss:0.005\n",
      "Epoch validation accuracy: 0.897%\n",
      "Running epoch 9/10\n",
      "Epoch training loss:0.005\n",
      "Epoch validation accuracy: 0.905%\n",
      "Running epoch 10/10\n",
      "Epoch training loss:0.005\n",
      "Epoch validation accuracy: 0.903%\n"
     ]
    }
   ],
   "source": [
    "NUM_TRAININGS = 5\n",
    "num_epochs = 10\n",
    "\n",
    "for training in range(NUM_TRAININGS):\n",
    "    print(f\"Training run: {training + 1}/{NUM_TRAININGS}\")\n",
    "\n",
    "    # Reinitialize the network and optimizer for each training run\n",
    "    net = Net()    \n",
    "    opt = torch.optim.Adam(net.parameters(), lr=0.001, betas=(0.9, 0.999))\n",
    "    \n",
    "    best_acc = 0\n",
    "\n",
    "    for e in range(num_epochs):\n",
    "        print('Running epoch {}/{}'.format(e+1, num_epochs))\n",
    "        net, best_acc = binary_train_epoch(net, opt, criterion, data_hold, label_hold, index_loader, val_hold, val_label, val_index_loader, best_acc)\n",
    "        \n",
    "    # Save model after each epoch\n",
    "    save_model(net, training, e)\n"
   ]
  },
  {
   "cell_type": "code",
   "execution_count": null,
   "metadata": {},
   "outputs": [],
   "source": [
    "# save model which can be used for prediction\n",
    "torch.save(net.state_dict(), model_dir + '/roofnet_binary_class_run4.pth') "
   ]
  },
  {
   "cell_type": "code",
   "execution_count": 46,
   "metadata": {},
   "outputs": [
    {
     "name": "stdout",
     "output_type": "stream",
     "text": [
      "Overall accuracy: 0.880\n",
      "No reroof prediction accuracy: 1.000\n",
      "Reroof prediction accuracy: 0.800\n"
     ]
    }
   ],
   "source": [
    "hold = gen_metrics(get_max_prob, val_latents, val_meta, net)"
   ]
  },
  {
   "cell_type": "code",
   "execution_count": 47,
   "metadata": {},
   "outputs": [
    {
     "name": "stdout",
     "output_type": "stream",
     "text": [
      "Overall accuracy: 0.818\n",
      "No reroof prediction accuracy: 0.880\n",
      "Reroof prediction accuracy: 0.767\n"
     ]
    }
   ],
   "source": [
    "hold = gen_metrics(get_max_prob, test_latents, test_meta, net)"
   ]
  },
  {
   "cell_type": "code",
   "execution_count": null,
   "metadata": {},
   "outputs": [],
   "source": [
    "out = {'site_address': hold[:,0], 'transition_true': hold[:,2], 'transition_predicted': hold[:,1]}\n",
    "# to save the predictions\n",
    "pd.DataFrame(out).to_csv('Argmax(Prob) Run4.csv')"
   ]
  },
  {
   "attachments": {},
   "cell_type": "markdown",
   "metadata": {},
   "source": [
    "# Dynamic Training"
   ]
  },
  {
   "attachments": {},
   "cell_type": "markdown",
   "metadata": {},
   "source": [
    "## Shap variance"
   ]
  },
  {
   "cell_type": "code",
   "execution_count": 61,
   "metadata": {},
   "outputs": [],
   "source": [
    "import shap\n",
    "# train_epoch for binary classifier\n",
    "def shap_var_train_epoch(model, opt, criterion, data, labels, data_loader, val_data, val_labels, val_data_loader, best_acc, running_mean, running_variance, batch_count, logit=False):\n",
    "    \n",
    "    best_model_wts = copy.deepcopy(model.state_dict())  # save best model weights\n",
    "    model.train()  # set model to training mode\n",
    "    loss_hold = []  # hold loss for each batch\n",
    "    \n",
    "    for i in iter(data_loader):  # iterate through batches\n",
    "        batch_size = len(i)  # get batch size\n",
    "        x_batch = data[i]  # get batch data \n",
    "        y_batch = labels[i]  # get batch labels\n",
    "        \n",
    "        x_batch = Variable(torch.from_numpy(x_batch))  # convert to torch variable\n",
    "        y_batch = torch.tensor(y_batch, dtype=torch.float, device=device)  # convert to torch variable\n",
    "        y_batch = y_batch.view(batch_size, -1)  # reshape to batch size\n",
    "        \n",
    "        opt.zero_grad()  # zero the parameter gradients\n",
    "        y_hat = model(x_batch.to(model.device))\n",
    "        loss = criterion(y_hat, y_batch)\n",
    "\n",
    "        # calculate shap values for the current batch\n",
    "        explainer = shap.DeepExplainer(model, x_batch.detach())\n",
    "        shap_values = explainer.shap_values(x_batch.detach())\n",
    "        \n",
    "        # convert shap values to a tensor\n",
    "        shap_values_tensor = torch.tensor(shap_values)\n",
    "\n",
    "        # Update running mean and variance for SHAP values\n",
    "        batch_mean = torch.mean(shap_values_tensor, dim=0)\n",
    "        \n",
    "        batch_count += 1\n",
    "        delta = batch_mean - running_mean\n",
    "        running_mean += delta / batch_count\n",
    "        delta2 = batch_mean - running_mean\n",
    "        running_variance += delta * delta2\n",
    "\n",
    "        # Regularization term based on variance\n",
    "        lambda_reg = 0.25\n",
    "        regularization_term = lambda_reg * torch.sum(running_variance / batch_count)\n",
    "\n",
    "        # add regularization term to the loss\n",
    "        total_loss = loss + regularization_term\n",
    "        total_loss.backward()  # backward pass\n",
    "        opt.step()  # update parameters\n",
    "        \n",
    "        loss_hold.append(total_loss.item() / batch_size)\n",
    "    \n",
    "    \n",
    "    #validate  \n",
    "\n",
    "    model.eval()\n",
    "    pred_acc = [] # hold prediction accuracy for each batch\n",
    "    for i in iter(val_data_loader):     # iterate through batches\n",
    "        batch_size = len(i)     # get batch size\n",
    "        x_batch = val_data[i]       # get batch data\n",
    "        y_batch = val_labels[i]     # get batch labels\n",
    "        \n",
    "        x_batch = Variable(torch.from_numpy(x_batch))   # convert to torch variable\n",
    "        \n",
    "        if logit:   # if logit, use sigmoid\n",
    "            y_logits = model(x_batch.to(model.device))       # forward pass\n",
    "            s = nn.Sigmoid()    # sigmoid function\n",
    "            y_hat = s(y_logits) > 0.5     # get prediction\n",
    "        else:\n",
    "            y_hat = model(x_batch.to(model.device))>0.5     # forward pass, get prediction\n",
    "        \n",
    "        pred_acc.append(np.mean(y_hat.cpu().numpy() == y_batch.reshape(batch_size,-1))) # append prediction accuracy\n",
    "        \n",
    "    pred_acc = np.mean(pred_acc)    # get epoch prediction accuracy\n",
    "    print(\"Epoch validation accuracy: {:.3f}%\".format(pred_acc))        # print epoch prediction accuracy\n",
    "    \n",
    "    if pred_acc >= best_acc:        # if epoch prediction accuracy is better than best prediction accuracy\n",
    "        best_model_wts = copy.deepcopy(model.state_dict()) # save best model weights\n",
    "        best_acc = pred_acc     # update best prediction accuracy\n",
    "    \n",
    "    net.load_state_dict(best_model_wts)     # load best model weights\n",
    "    \n",
    "    return net, best_acc, running_mean, running_variance, batch_count\n",
    "        \n",
    "        "
   ]
  },
  {
   "cell_type": "code",
   "execution_count": 62,
   "metadata": {},
   "outputs": [],
   "source": [
    "class Net(nn.Module): # binary classifier\n",
    "    \n",
    "    def __init__(self, zdim = 128): # initialize network # zdim is the dimension of the latent vector\n",
    "        super().__init__()  # inherit from nn.Module\n",
    "        \n",
    "        self.device = torch.device(\"cuda:0\" if torch.cuda.is_available() else \"cpu\")    # get device\n",
    "        \n",
    "        self.network = nn.Sequential( # define network\n",
    "            nn.Linear(2*zdim, 2*zdim), # input layer\n",
    "            nn.ReLU(),  # activation function\n",
    "            nn.Dropout(0.2),    # dropout\n",
    "            nn.Linear(2*zdim, zdim),   # hidden layer\n",
    "            nn.ReLU(), # activation function\n",
    "            nn.Dropout(0.2),   # dropout\n",
    "            nn.Linear(zdim, 64),    # hidden layer\n",
    "            nn.ReLU(),  # activation function\n",
    "            nn.Dropout(0.2),    # dropout\n",
    "            nn.Linear(64, 1),   # output layer\n",
    "            nn.Sigmoid()    # sigmoid function\n",
    "        ).to(self.device)       # send network to device\n",
    "              \n",
    "    \n",
    "    def forward(self, x):\n",
    "        y = self.network(x)    # forward pass\n",
    "        return y   # return output of network (prediction)\n",
    "    \n",
    "net = Net()    \n",
    "opt = torch.optim.Adam(net.parameters(), lr=0.001, betas=(0.9, 0.999))\n",
    "criterion = nn.BCELoss()    # binary cross entropy loss\n",
    "\n"
   ]
  },
  {
   "cell_type": "code",
   "execution_count": 63,
   "metadata": {},
   "outputs": [],
   "source": [
    "def save_model(model, run, folder='binary_classifier_shap_variance_aplha02'):\n",
    "    if not os.path.exists(folder):\n",
    "        os.makedirs(folder)  # Create the folder if it doesn't exist\n",
    "    filename = f'model_run_shap_var{run + 1}.pth'\n",
    "    torch.save(model.state_dict(), os.path.join(folder, filename))"
   ]
  },
  {
   "cell_type": "code",
   "execution_count": 64,
   "metadata": {},
   "outputs": [],
   "source": [
    "index_loader = torch.utils.data.DataLoader(np.arange(len(data_hold)),batch_size=32,shuffle=True) # index loader is used to shuffle the data\n",
    "val_index_loader = torch.utils.data.DataLoader(np.arange(len(val_hold)),batch_size=32,shuffle=True)"
   ]
  },
  {
   "cell_type": "code",
   "execution_count": 65,
   "metadata": {},
   "outputs": [
    {
     "name": "stdout",
     "output_type": "stream",
     "text": [
      "Training run: 1/5\n",
      "Running epoch 1/10\n",
      "Epoch validation accuracy: 0.886%\n",
      "Running epoch 2/10\n",
      "Epoch validation accuracy: 0.890%\n",
      "Running epoch 3/10\n",
      "Epoch validation accuracy: 0.901%\n",
      "Running epoch 4/10\n",
      "Epoch validation accuracy: 0.905%\n",
      "Running epoch 5/10\n",
      "Epoch validation accuracy: 0.901%\n",
      "Running epoch 6/10\n",
      "Epoch validation accuracy: 0.895%\n",
      "Running epoch 7/10\n",
      "Epoch validation accuracy: 0.895%\n",
      "Running epoch 8/10\n",
      "Epoch validation accuracy: 0.889%\n",
      "Running epoch 9/10\n",
      "Epoch validation accuracy: 0.892%\n",
      "Running epoch 10/10\n",
      "Epoch validation accuracy: 0.906%\n",
      "Training run: 2/5\n",
      "Running epoch 1/10\n",
      "Epoch validation accuracy: 0.884%\n",
      "Running epoch 2/10\n",
      "Epoch validation accuracy: 0.899%\n",
      "Running epoch 3/10\n",
      "Epoch validation accuracy: 0.895%\n",
      "Running epoch 4/10\n",
      "Epoch validation accuracy: 0.911%\n",
      "Running epoch 5/10\n",
      "Epoch validation accuracy: 0.903%\n",
      "Running epoch 6/10\n",
      "Epoch validation accuracy: 0.900%\n",
      "Running epoch 7/10\n",
      "Epoch validation accuracy: 0.901%\n",
      "Running epoch 8/10\n",
      "Epoch validation accuracy: 0.903%\n",
      "Running epoch 9/10\n",
      "Epoch validation accuracy: 0.892%\n",
      "Running epoch 10/10\n",
      "Epoch validation accuracy: 0.903%\n",
      "Training run: 3/5\n",
      "Running epoch 1/10\n",
      "Epoch validation accuracy: 0.896%\n",
      "Running epoch 2/10\n",
      "Epoch validation accuracy: 0.904%\n",
      "Running epoch 3/10\n",
      "Epoch validation accuracy: 0.913%\n",
      "Running epoch 4/10\n",
      "Epoch validation accuracy: 0.895%\n",
      "Running epoch 5/10\n",
      "Epoch validation accuracy: 0.901%\n",
      "Running epoch 6/10\n",
      "Epoch validation accuracy: 0.894%\n",
      "Running epoch 7/10\n",
      "Epoch validation accuracy: 0.909%\n",
      "Running epoch 8/10\n",
      "Epoch validation accuracy: 0.910%\n",
      "Running epoch 9/10\n",
      "Epoch validation accuracy: 0.909%\n",
      "Running epoch 10/10\n",
      "Epoch validation accuracy: 0.891%\n",
      "Training run: 4/5\n",
      "Running epoch 1/10\n",
      "Epoch validation accuracy: 0.871%\n",
      "Running epoch 2/10\n",
      "Epoch validation accuracy: 0.892%\n",
      "Running epoch 3/10\n",
      "Epoch validation accuracy: 0.894%\n",
      "Running epoch 4/10\n",
      "Epoch validation accuracy: 0.905%\n",
      "Running epoch 5/10\n",
      "Epoch validation accuracy: 0.917%\n",
      "Running epoch 6/10\n",
      "Epoch validation accuracy: 0.893%\n",
      "Running epoch 7/10\n",
      "Epoch validation accuracy: 0.901%\n",
      "Running epoch 8/10\n",
      "Epoch validation accuracy: 0.900%\n",
      "Running epoch 9/10\n",
      "Epoch validation accuracy: 0.891%\n",
      "Running epoch 10/10\n",
      "Epoch validation accuracy: 0.876%\n",
      "Training run: 5/5\n",
      "Running epoch 1/10\n",
      "Epoch validation accuracy: 0.892%\n",
      "Running epoch 2/10\n",
      "Epoch validation accuracy: 0.909%\n",
      "Running epoch 3/10\n",
      "Epoch validation accuracy: 0.908%\n",
      "Running epoch 4/10\n",
      "Epoch validation accuracy: 0.910%\n",
      "Running epoch 5/10\n",
      "Epoch validation accuracy: 0.905%\n",
      "Running epoch 6/10\n",
      "Epoch validation accuracy: 0.900%\n",
      "Running epoch 7/10\n",
      "Epoch validation accuracy: 0.904%\n",
      "Running epoch 8/10\n",
      "Epoch validation accuracy: 0.908%\n",
      "Running epoch 9/10\n",
      "Epoch validation accuracy: 0.907%\n",
      "Running epoch 10/10\n",
      "Epoch validation accuracy: 0.901%\n"
     ]
    }
   ],
   "source": [
    "NUM_TRAININGS = 5\n",
    "num_epochs = 10\n",
    "alpha = 0.2\n",
    "\n",
    "for training in range(NUM_TRAININGS):\n",
    "    print(f\"Training run: {training + 1}/{NUM_TRAININGS}\")\n",
    "    \n",
    "    # Reinitialize the network and optimizer for each training run.\n",
    "    net = Net()    \n",
    "    opt = torch.optim.Adam(net.parameters(), lr=0.001, betas=(0.9, 0.999))\n",
    "    best_acc = 0\n",
    "    \n",
    "    running_mean = 0    # Or initialize accordingly\n",
    "    running_variance = 0  # Or initialize accordingly\n",
    "    batch_count = 0     # Or initialize accordingly\n",
    "\n",
    "    for e in range(num_epochs):\n",
    "        print('Running epoch {}/{}'.format(e+1, num_epochs))\n",
    "        net, best_acc, running_mean, running_variance, batch_count = shap_var_train_epoch(\n",
    "            net, opt, criterion, \n",
    "            data_hold, label_hold, index_loader, \n",
    "            val_hold, val_label, val_index_loader, \n",
    "            best_acc, running_mean, running_variance, batch_count\n",
    "        )\n",
    "        \n",
    "    # Save the model after all epochs for this training run using the save_model function.\n",
    "    save_model(net, training)\n"
   ]
  },
  {
   "attachments": {},
   "cell_type": "markdown",
   "metadata": {},
   "source": [
    "not used"
   ]
  },
  {
   "cell_type": "code",
   "execution_count": null,
   "metadata": {},
   "outputs": [],
   "source": [
    "# save model which can be used for prediction\n",
    "torch.save(net.state_dict(), model_dir + '/roofnet_binary_class_run4varbatch02.pth') "
   ]
  },
  {
   "cell_type": "code",
   "execution_count": null,
   "metadata": {},
   "outputs": [],
   "source": [
    "hold = gen_metrics(get_max_prob, val_latents, val_meta, net)"
   ]
  },
  {
   "attachments": {},
   "cell_type": "markdown",
   "metadata": {},
   "source": [
    "##  Encouraging Shap Values in the Batch"
   ]
  },
  {
   "cell_type": "code",
   "execution_count": 66,
   "metadata": {},
   "outputs": [],
   "source": [
    "import shap\n",
    "def shap_regularized_binary_train_epoch(model, opt, criterion, alpha, data, labels, data_loader, val_data, val_labels, val_data_loader, best_acc, logit=False):\n",
    "    \n",
    "    best_model_wts = copy.deepcopy(model.state_dict())\n",
    "    model.train()\n",
    "    loss_hold = []\n",
    "\n",
    "    for i in iter(data_loader):\n",
    "        batch_size = len(i)\n",
    "        x_batch = data[i]\n",
    "        y_batch = labels[i]\n",
    "\n",
    "        x_batch = Variable(torch.from_numpy(x_batch))\n",
    "        y_batch = torch.tensor(y_batch, dtype=torch.float, device=device).view(batch_size,-1)\n",
    "        \n",
    "        opt.zero_grad()\n",
    "        y_hat = model(x_batch.to(model.device)) \n",
    "        \n",
    "        # Original loss\n",
    "        loss = criterion(y_hat, y_batch)\n",
    "        \n",
    "        # Compute SHAP values for current batch\n",
    "        background_data = x_batch[np.random.choice(x_batch.shape[0], min(x_batch.shape[0], 100), replace=False)]\n",
    "\n",
    "        explainer = shap.DeepExplainer(model, background_data)\n",
    "        shap_batch = explainer.shap_values(x_batch)\n",
    "\n",
    "        shap_batch_tensor = torch.tensor(shap_batch, dtype=torch.float32, device=model.device)\n",
    "        shap_reg_term = (y_hat - shap_batch_tensor).pow(2).mean()\n",
    "\n",
    "        # Updated loss with the SHAP term\n",
    "        total_loss = loss + alpha * shap_reg_term\n",
    "\n",
    "        total_loss.backward()\n",
    "        opt.step()\n",
    "        loss_hold.append(total_loss.item()/batch_size)\n",
    "\n",
    "    print(\"Epoch training loss:{:.3f}\".format(np.mean(loss_hold)))\n",
    "\n",
    "    model.eval()\n",
    "    pred_acc = []\n",
    "    for i in iter(val_data_loader):\n",
    "        batch_size = len(i)\n",
    "        x_batch = val_data[i]\n",
    "        y_batch = val_labels[i]\n",
    "        x_batch = Variable(torch.from_numpy(x_batch))\n",
    "\n",
    "        if logit:\n",
    "            y_logits = model(x_batch.to(model.device))\n",
    "            s = nn.Sigmoid()\n",
    "            y_hat = s(y_logits) > 0.5\n",
    "        else:\n",
    "            y_hat = model(x_batch.to(model.device))>0.5\n",
    "        \n",
    "        pred_acc.append(np.mean(y_hat.cpu().numpy() == y_batch.reshape(batch_size,-1)))\n",
    "        \n",
    "    pred_acc = np.mean(pred_acc)\n",
    "    print(\"Epoch validation accuracy: {:.3f}%\".format(pred_acc))\n",
    "    \n",
    "    if pred_acc >= best_acc:\n",
    "        best_model_wts = copy.deepcopy(model.state_dict())\n",
    "        best_acc = pred_acc\n",
    "    \n",
    "    model.load_state_dict(best_model_wts)\n",
    "    return model, best_acc\n"
   ]
  },
  {
   "cell_type": "code",
   "execution_count": 67,
   "metadata": {},
   "outputs": [],
   "source": [
    "class Net(nn.Module): # binary classifier\n",
    "    \n",
    "    def __init__(self, zdim = 128): # initialize network # zdim is the dimension of the latent vector\n",
    "        super().__init__()  # inherit from nn.Module\n",
    "        \n",
    "        self.device = torch.device(\"cuda:0\" if torch.cuda.is_available() else \"cpu\")    # get device\n",
    "        \n",
    "        self.network = nn.Sequential( # define network\n",
    "            nn.Linear(2*zdim, 2*zdim), # input layer\n",
    "            nn.ReLU(),  # activation function\n",
    "            nn.Dropout(0.2),    # dropout\n",
    "            nn.Linear(2*zdim, zdim),   # hidden layer\n",
    "            nn.ReLU(), # activation function\n",
    "            nn.Dropout(0.2),   # dropout\n",
    "            nn.Linear(zdim, 64),    # hidden layer\n",
    "            nn.ReLU(),  # activation function\n",
    "            nn.Dropout(0.2),    # dropout\n",
    "            nn.Linear(64, 1),   # output layer\n",
    "            nn.Sigmoid()    # sigmoid function\n",
    "        ).to(self.device)       # send network to device\n",
    "              \n",
    "    \n",
    "    def forward(self, x):\n",
    "        y = self.network(x)    # forward pass\n",
    "        return y   # return output of network (prediction)\n",
    "    \n",
    "net = Net()    \n",
    "opt = torch.optim.Adam(net.parameters(), lr=0.001, betas=(0.9, 0.999))\n",
    "criterion = nn.BCELoss()    # binary cross entropy loss\n",
    "\n"
   ]
  },
  {
   "cell_type": "code",
   "execution_count": 68,
   "metadata": {},
   "outputs": [],
   "source": [
    "def save_model(model, run, folder='binary_classifier_shap_dynamic_aplha02'):\n",
    "    if not os.path.exists(folder):\n",
    "        os.makedirs(folder)  # Create the folder if it doesn't exist\n",
    "    filename = f'model_run_shap_dynamic{run + 1}.pth'\n",
    "    torch.save(model.state_dict(), os.path.join(folder, filename))"
   ]
  },
  {
   "cell_type": "code",
   "execution_count": 69,
   "metadata": {},
   "outputs": [],
   "source": [
    "index_loader = torch.utils.data.DataLoader(np.arange(len(data_hold)),batch_size=32,shuffle=True) # index loader is used to shuffle the data\n",
    "val_index_loader = torch.utils.data.DataLoader(np.arange(len(val_hold)),batch_size=32,shuffle=True)"
   ]
  },
  {
   "cell_type": "code",
   "execution_count": 71,
   "metadata": {},
   "outputs": [
    {
     "name": "stdout",
     "output_type": "stream",
     "text": [
      "Training run: 1/5\n",
      "Running epoch 1/10\n",
      "Epoch training loss:0.014\n",
      "Epoch validation accuracy: 0.873%\n",
      "Running epoch 2/10\n",
      "Epoch training loss:0.008\n",
      "Epoch validation accuracy: 0.879%\n",
      "Running epoch 3/10\n",
      "Epoch training loss:0.007\n",
      "Epoch validation accuracy: 0.905%\n",
      "Running epoch 4/10\n",
      "Epoch training loss:0.005\n",
      "Epoch validation accuracy: 0.892%\n",
      "Running epoch 5/10\n",
      "Epoch training loss:0.005\n",
      "Epoch validation accuracy: 0.900%\n",
      "Running epoch 6/10\n",
      "Epoch training loss:0.005\n",
      "Epoch validation accuracy: 0.894%\n",
      "Running epoch 7/10\n",
      "Epoch training loss:0.005\n",
      "Epoch validation accuracy: 0.885%\n",
      "Running epoch 8/10\n",
      "Epoch training loss:0.005\n",
      "Epoch validation accuracy: 0.883%\n",
      "Running epoch 9/10\n",
      "Epoch training loss:0.005\n",
      "Epoch validation accuracy: 0.889%\n",
      "Running epoch 10/10\n",
      "Epoch training loss:0.005\n",
      "Epoch validation accuracy: 0.891%\n",
      "Training run: 2/5\n",
      "Running epoch 1/10\n",
      "Epoch training loss:0.014\n",
      "Epoch validation accuracy: 0.873%\n",
      "Running epoch 2/10\n",
      "Epoch training loss:0.008\n",
      "Epoch validation accuracy: 0.898%\n",
      "Running epoch 3/10\n",
      "Epoch training loss:0.007\n",
      "Epoch validation accuracy: 0.905%\n",
      "Running epoch 4/10\n",
      "Epoch training loss:0.005\n",
      "Epoch validation accuracy: 0.897%\n",
      "Running epoch 5/10\n",
      "Epoch training loss:0.005\n",
      "Epoch validation accuracy: 0.905%\n",
      "Running epoch 6/10\n",
      "Epoch training loss:0.005\n",
      "Epoch validation accuracy: 0.890%\n",
      "Running epoch 7/10\n",
      "Epoch training loss:0.005\n",
      "Epoch validation accuracy: 0.908%\n",
      "Running epoch 8/10\n",
      "Epoch training loss:0.004\n",
      "Epoch validation accuracy: 0.891%\n",
      "Running epoch 9/10\n",
      "Epoch training loss:0.005\n",
      "Epoch validation accuracy: 0.906%\n",
      "Running epoch 10/10\n",
      "Epoch training loss:0.005\n",
      "Epoch validation accuracy: 0.907%\n",
      "Training run: 3/5\n",
      "Running epoch 1/10\n",
      "Epoch training loss:0.013\n",
      "Epoch validation accuracy: 0.894%\n",
      "Running epoch 2/10\n",
      "Epoch training loss:0.008\n",
      "Epoch validation accuracy: 0.903%\n",
      "Running epoch 3/10\n",
      "Epoch training loss:0.006\n",
      "Epoch validation accuracy: 0.903%\n",
      "Running epoch 4/10\n",
      "Epoch training loss:0.005\n",
      "Epoch validation accuracy: 0.889%\n",
      "Running epoch 5/10\n",
      "Epoch training loss:0.005\n",
      "Epoch validation accuracy: 0.897%\n",
      "Running epoch 6/10\n",
      "Epoch training loss:0.005\n",
      "Epoch validation accuracy: 0.898%\n",
      "Running epoch 7/10\n",
      "Epoch training loss:0.005\n",
      "Epoch validation accuracy: 0.901%\n",
      "Running epoch 8/10\n",
      "Epoch training loss:0.005\n",
      "Epoch validation accuracy: 0.900%\n",
      "Running epoch 9/10\n",
      "Epoch training loss:0.005\n",
      "Epoch validation accuracy: 0.893%\n",
      "Running epoch 10/10\n",
      "Epoch training loss:0.005\n",
      "Epoch validation accuracy: 0.891%\n",
      "Training run: 4/5\n",
      "Running epoch 1/10\n",
      "Epoch training loss:0.014\n",
      "Epoch validation accuracy: 0.895%\n",
      "Running epoch 2/10\n",
      "Epoch training loss:0.008\n",
      "Epoch validation accuracy: 0.906%\n",
      "Running epoch 3/10\n",
      "Epoch training loss:0.006\n",
      "Epoch validation accuracy: 0.905%\n",
      "Running epoch 4/10\n",
      "Epoch training loss:0.006\n",
      "Epoch validation accuracy: 0.911%\n",
      "Running epoch 5/10\n",
      "Epoch training loss:0.005\n",
      "Epoch validation accuracy: 0.915%\n",
      "Running epoch 6/10\n",
      "Epoch training loss:0.004\n",
      "Epoch validation accuracy: 0.907%\n",
      "Running epoch 7/10\n",
      "Epoch training loss:0.004\n",
      "Epoch validation accuracy: 0.910%\n",
      "Running epoch 8/10\n",
      "Epoch training loss:0.004\n",
      "Epoch validation accuracy: 0.906%\n",
      "Running epoch 9/10\n",
      "Epoch training loss:0.004\n",
      "Epoch validation accuracy: 0.902%\n",
      "Running epoch 10/10\n",
      "Epoch training loss:0.004\n",
      "Epoch validation accuracy: 0.900%\n",
      "Training run: 5/5\n",
      "Running epoch 1/10\n",
      "Epoch training loss:0.014\n",
      "Epoch validation accuracy: 0.879%\n",
      "Running epoch 2/10\n",
      "Epoch training loss:0.008\n",
      "Epoch validation accuracy: 0.887%\n",
      "Running epoch 3/10\n",
      "Epoch training loss:0.006\n",
      "Epoch validation accuracy: 0.903%\n",
      "Running epoch 4/10\n",
      "Epoch training loss:0.005\n",
      "Epoch validation accuracy: 0.901%\n",
      "Running epoch 5/10\n",
      "Epoch training loss:0.005\n",
      "Epoch validation accuracy: 0.885%\n",
      "Running epoch 6/10\n",
      "Epoch training loss:0.005\n",
      "Epoch validation accuracy: 0.900%\n",
      "Running epoch 7/10\n",
      "Epoch training loss:0.005\n",
      "Epoch validation accuracy: 0.913%\n",
      "Running epoch 8/10\n",
      "Epoch training loss:0.004\n",
      "Epoch validation accuracy: 0.913%\n",
      "Running epoch 9/10\n",
      "Epoch training loss:0.004\n",
      "Epoch validation accuracy: 0.911%\n",
      "Running epoch 10/10\n",
      "Epoch training loss:0.004\n",
      "Epoch validation accuracy: 0.904%\n"
     ]
    }
   ],
   "source": [
    "import copy\n",
    "\n",
    "NUM_TRAININGS = 5\n",
    "num_epochs = 10\n",
    "alpha = 0.2\n",
    "\n",
    "for training in range(NUM_TRAININGS):\n",
    "    print(f\"Training run: {training + 1}/{NUM_TRAININGS}\")\n",
    "    \n",
    "    # Reinitialize the network and optimizer for each training run.\n",
    "    net = Net()    \n",
    "    opt = torch.optim.Adam(net.parameters(), lr=0.001, betas=(0.9, 0.999))\n",
    "    best_acc = 0\n",
    "\n",
    "    for e in range(num_epochs):\n",
    "        print('Running epoch {}/{}'.format(e+1, num_epochs))\n",
    "        net, best_acc = shap_regularized_binary_train_epoch(\n",
    "            net, opt, criterion, alpha, \n",
    "            data_hold, label_hold, index_loader, \n",
    "            val_hold, val_label, val_index_loader, \n",
    "            best_acc\n",
    "        )\n",
    "        \n",
    "    # Save the model after all epochs for this training run.\n",
    "    save_model(net, training)\n",
    "\n"
   ]
  },
  {
   "cell_type": "code",
   "execution_count": null,
   "metadata": {},
   "outputs": [],
   "source": [
    "# save model which can be used for prediction\n",
    "torch.save(net.state_dict(), model_dir + '/roofnet_binary_class_batch403posneg.pth') "
   ]
  },
  {
   "cell_type": "code",
   "execution_count": 72,
   "metadata": {},
   "outputs": [
    {
     "name": "stdout",
     "output_type": "stream",
     "text": [
      "Overall accuracy: 0.800\n",
      "No reroof prediction accuracy: 1.000\n",
      "Reroof prediction accuracy: 0.667\n"
     ]
    }
   ],
   "source": [
    "hold = gen_metrics(get_max_prob, val_latents, val_meta, net)"
   ]
  },
  {
   "cell_type": "code",
   "execution_count": 73,
   "metadata": {},
   "outputs": [
    {
     "name": "stdout",
     "output_type": "stream",
     "text": [
      "Overall accuracy: 0.727\n",
      "No reroof prediction accuracy: 0.760\n",
      "Reroof prediction accuracy: 0.700\n"
     ]
    }
   ],
   "source": [
    "hold = gen_metrics(get_max_prob, test_latents, test_meta, net)"
   ]
  },
  {
   "cell_type": "code",
   "execution_count": null,
   "metadata": {},
   "outputs": [],
   "source": [
    "out = {'site_address': hold[:,0], 'transition_true': hold[:,2], 'transition_predicted': hold[:,1]}\n",
    "# to save the predictions\n",
    "pd.DataFrame(out).to_csv('Argmax(Prob) ShapBatchposneg403.csv')"
   ]
  },
  {
   "attachments": {},
   "cell_type": "markdown",
   "metadata": {},
   "source": [
    "## Encouraging Positive Magnitude"
   ]
  },
  {
   "cell_type": "code",
   "execution_count": 74,
   "metadata": {},
   "outputs": [],
   "source": [
    "import shap \n",
    "def shap_regularized_binary_train_epoch(model, opt, criterion, alpha, data, labels, data_loader, val_data, val_labels, val_data_loader, best_acc, logit=False):\n",
    "    \n",
    "    best_model_wts = copy.deepcopy(model.state_dict())\n",
    "    model.train()\n",
    "    loss_hold = []\n",
    "\n",
    "    for i, batch_indices in enumerate(iter(data_loader)):\n",
    "        batch_size = len(batch_indices)\n",
    "        x_batch = data[batch_indices]\n",
    "        y_batch = labels[batch_indices]\n",
    "\n",
    "        x_batch = torch.from_numpy(x_batch).float().to(device)\n",
    "        y_batch = torch.tensor(y_batch, dtype=torch.float, device=device).view(batch_size, -1)\n",
    "        \n",
    "        opt.zero_grad()\n",
    "        y_hat = model(x_batch)\n",
    "        \n",
    "        # Original loss\n",
    "        loss = criterion(y_hat, y_batch)\n",
    "        \n",
    "        # Compute SHAP values for current batch\n",
    "        background_data = x_batch[np.random.choice(x_batch.shape[0], min(x_batch.shape[0], 100), replace=False)]\n",
    "        explainer = shap.DeepExplainer(model, background_data)\n",
    "        shap_batch = explainer.shap_values(x_batch)\n",
    "        \n",
    "        # Encourage positive SHAP values\n",
    "        positive_shap_batch = np.maximum(shap_batch, 0)  # Filter only positive SHAP values\n",
    "\n",
    "        positive_shap_tensor = torch.tensor(positive_shap_batch, dtype=torch.float32, device=device)\n",
    "        shap_reg_term = (y_hat - positive_shap_tensor).pow(2).mean()\n",
    "        \n",
    "        # Updated loss with the SHAP term\n",
    "        total_loss = loss + alpha * shap_reg_term\n",
    "\n",
    "        total_loss.backward()\n",
    "        opt.step()\n",
    "        loss_hold.append(total_loss.item()/batch_size)\n",
    "\n",
    "    print(\"Epoch training loss:{:.3f}\".format(np.mean(loss_hold)))\n",
    "\n",
    "    model.eval()\n",
    "    pred_acc = []\n",
    "    for i in iter(val_data_loader):\n",
    "        batch_size = len(i)\n",
    "        x_batch = val_data[i]\n",
    "        y_batch = val_labels[i]\n",
    "        x_batch = Variable(torch.from_numpy(x_batch))\n",
    "\n",
    "        if logit:\n",
    "            y_logits = model(x_batch.to(model.device))\n",
    "            s = nn.Sigmoid()\n",
    "            y_hat = s(y_logits) > 0.5\n",
    "        else:\n",
    "            y_hat = model(x_batch.to(model.device))>0.5\n",
    "        \n",
    "        pred_acc.append(np.mean(y_hat.cpu().numpy() == y_batch.reshape(batch_size,-1)))\n",
    "        \n",
    "    pred_acc = np.mean(pred_acc)\n",
    "    print(\"Epoch validation accuracy: {:.3f}%\".format(pred_acc))\n",
    "    \n",
    "    if pred_acc >= best_acc:\n",
    "        best_model_wts = copy.deepcopy(model.state_dict())\n",
    "        best_acc = pred_acc\n",
    "    \n",
    "    model.load_state_dict(best_model_wts)\n",
    "    return model, best_acc\n"
   ]
  },
  {
   "cell_type": "code",
   "execution_count": 75,
   "metadata": {},
   "outputs": [],
   "source": [
    "class Net(nn.Module): # binary classifier\n",
    "    \n",
    "    def __init__(self, zdim = 128): # initialize network # zdim is the dimension of the latent vector\n",
    "        super().__init__()  # inherit from nn.Module\n",
    "        \n",
    "        self.device = torch.device(\"cuda:0\" if torch.cuda.is_available() else \"cpu\")    # get device\n",
    "        \n",
    "        self.network = nn.Sequential( # define network\n",
    "            nn.Linear(2*zdim, 2*zdim), # input layer\n",
    "            nn.ReLU(),  # activation function\n",
    "            nn.Dropout(0.2),    # dropout\n",
    "            nn.Linear(2*zdim, zdim),   # hidden layer\n",
    "            nn.ReLU(), # activation function\n",
    "            nn.Dropout(0.2),   # dropout\n",
    "            nn.Linear(zdim, 64),    # hidden layer\n",
    "            nn.ReLU(),  # activation function\n",
    "            nn.Dropout(0.2),    # dropout\n",
    "            nn.Linear(64, 1),   # output layer\n",
    "            nn.Sigmoid()    # sigmoid function\n",
    "        ).to(self.device)       # send network to device\n",
    "              \n",
    "    \n",
    "    def forward(self, x):\n",
    "        y = self.network(x)    # forward pass\n",
    "        return y   # return output of network (prediction)\n",
    "    \n",
    "net = Net()    \n",
    "opt = torch.optim.Adam(net.parameters(), lr=0.001, betas=(0.9, 0.999))\n",
    "criterion = nn.BCELoss()    # binary cross entropy loss\n",
    "\n"
   ]
  },
  {
   "cell_type": "code",
   "execution_count": 76,
   "metadata": {},
   "outputs": [],
   "source": [
    "def save_model(model, run, folder='binary_classifier_shap_positive_dynamic_aplha02'):\n",
    "    if not os.path.exists(folder):\n",
    "        os.makedirs(folder)  # Create the folder if it doesn't exist\n",
    "    filename = f'model_run_shap_pos_dynamic{run + 1}.pth'\n",
    "    torch.save(model.state_dict(), os.path.join(folder, filename))"
   ]
  },
  {
   "cell_type": "code",
   "execution_count": 77,
   "metadata": {},
   "outputs": [],
   "source": [
    "index_loader = torch.utils.data.DataLoader(np.arange(len(data_hold)),batch_size=32,shuffle=True) # index loader is used to shuffle the data\n",
    "val_index_loader = torch.utils.data.DataLoader(np.arange(len(val_hold)),batch_size=32,shuffle=True)"
   ]
  },
  {
   "cell_type": "code",
   "execution_count": 78,
   "metadata": {},
   "outputs": [
    {
     "name": "stdout",
     "output_type": "stream",
     "text": [
      "Training run: 1/5\n",
      "Running epoch 1/10\n",
      "Epoch training loss:0.014\n",
      "Epoch validation accuracy: 0.879%\n",
      "Running epoch 2/10\n",
      "Epoch training loss:0.008\n",
      "Epoch validation accuracy: 0.882%\n",
      "Running epoch 3/10\n",
      "Epoch training loss:0.006\n",
      "Epoch validation accuracy: 0.891%\n",
      "Running epoch 4/10\n",
      "Epoch training loss:0.005\n",
      "Epoch validation accuracy: 0.906%\n",
      "Running epoch 5/10\n",
      "Epoch training loss:0.004\n",
      "Epoch validation accuracy: 0.902%\n",
      "Running epoch 6/10\n",
      "Epoch training loss:0.004\n",
      "Epoch validation accuracy: 0.897%\n",
      "Running epoch 7/10\n",
      "Epoch training loss:0.004\n",
      "Epoch validation accuracy: 0.880%\n",
      "Running epoch 8/10\n",
      "Epoch training loss:0.004\n",
      "Epoch validation accuracy: 0.891%\n",
      "Running epoch 9/10\n",
      "Epoch training loss:0.004\n",
      "Epoch validation accuracy: 0.898%\n",
      "Running epoch 10/10\n",
      "Epoch training loss:0.004\n",
      "Epoch validation accuracy: 0.899%\n",
      "Training run: 2/5\n",
      "Running epoch 1/10\n",
      "Epoch training loss:0.013\n",
      "Epoch validation accuracy: 0.897%\n",
      "Running epoch 2/10\n",
      "Epoch training loss:0.008\n",
      "Epoch validation accuracy: 0.906%\n",
      "Running epoch 3/10\n",
      "Epoch training loss:0.006\n",
      "Epoch validation accuracy: 0.901%\n",
      "Running epoch 4/10\n",
      "Epoch training loss:0.006\n",
      "Epoch validation accuracy: 0.892%\n",
      "Running epoch 5/10\n",
      "Epoch training loss:0.006\n",
      "Epoch validation accuracy: 0.911%\n",
      "Running epoch 6/10\n",
      "Epoch training loss:0.005\n",
      "Epoch validation accuracy: 0.906%\n",
      "Running epoch 7/10\n",
      "Epoch training loss:0.005\n",
      "Epoch validation accuracy: 0.903%\n",
      "Running epoch 8/10\n",
      "Epoch training loss:0.005\n",
      "Epoch validation accuracy: 0.905%\n",
      "Running epoch 9/10\n",
      "Epoch training loss:0.005\n",
      "Epoch validation accuracy: 0.902%\n",
      "Running epoch 10/10\n",
      "Epoch training loss:0.005\n",
      "Epoch validation accuracy: 0.905%\n",
      "Training run: 3/5\n",
      "Running epoch 1/10\n",
      "Epoch training loss:0.014\n",
      "Epoch validation accuracy: 0.891%\n",
      "Running epoch 2/10\n",
      "Epoch training loss:0.008\n",
      "Epoch validation accuracy: 0.909%\n",
      "Running epoch 3/10\n",
      "Epoch training loss:0.006\n",
      "Epoch validation accuracy: 0.898%\n",
      "Running epoch 4/10\n",
      "Epoch training loss:0.006\n",
      "Epoch validation accuracy: 0.902%\n",
      "Running epoch 5/10\n",
      "Epoch training loss:0.006\n",
      "Epoch validation accuracy: 0.901%\n",
      "Running epoch 6/10\n",
      "Epoch training loss:0.006\n",
      "Epoch validation accuracy: 0.905%\n",
      "Running epoch 7/10\n",
      "Epoch training loss:0.006\n",
      "Epoch validation accuracy: 0.897%\n",
      "Running epoch 8/10\n",
      "Epoch training loss:0.006\n",
      "Epoch validation accuracy: 0.888%\n",
      "Running epoch 9/10\n",
      "Epoch training loss:0.006\n",
      "Epoch validation accuracy: 0.900%\n",
      "Running epoch 10/10\n",
      "Epoch training loss:0.006\n",
      "Epoch validation accuracy: 0.903%\n",
      "Training run: 4/5\n",
      "Running epoch 1/10\n",
      "Epoch training loss:0.014\n",
      "Epoch validation accuracy: 0.900%\n",
      "Running epoch 2/10\n",
      "Epoch training loss:0.008\n",
      "Epoch validation accuracy: 0.899%\n",
      "Running epoch 3/10\n",
      "Epoch training loss:0.008\n",
      "Epoch validation accuracy: 0.896%\n",
      "Running epoch 4/10\n",
      "Epoch training loss:0.008\n",
      "Epoch validation accuracy: 0.893%\n",
      "Running epoch 5/10\n",
      "Epoch training loss:0.008\n",
      "Epoch validation accuracy: 0.904%\n",
      "Running epoch 6/10\n",
      "Epoch training loss:0.006\n",
      "Epoch validation accuracy: 0.911%\n",
      "Running epoch 7/10\n",
      "Epoch training loss:0.005\n",
      "Epoch validation accuracy: 0.915%\n",
      "Running epoch 8/10\n",
      "Epoch training loss:0.004\n",
      "Epoch validation accuracy: 0.909%\n",
      "Running epoch 9/10\n",
      "Epoch training loss:0.004\n",
      "Epoch validation accuracy: 0.907%\n",
      "Running epoch 10/10\n",
      "Epoch training loss:0.004\n",
      "Epoch validation accuracy: 0.906%\n",
      "Training run: 5/5\n",
      "Running epoch 1/10\n",
      "Epoch training loss:0.014\n",
      "Epoch validation accuracy: 0.885%\n",
      "Running epoch 2/10\n",
      "Epoch training loss:0.008\n",
      "Epoch validation accuracy: 0.894%\n",
      "Running epoch 3/10\n",
      "Epoch training loss:0.007\n",
      "Epoch validation accuracy: 0.891%\n",
      "Running epoch 4/10\n",
      "Epoch training loss:0.006\n",
      "Epoch validation accuracy: 0.892%\n",
      "Running epoch 5/10\n",
      "Epoch training loss:0.006\n",
      "Epoch validation accuracy: 0.889%\n",
      "Running epoch 6/10\n",
      "Epoch training loss:0.006\n",
      "Epoch validation accuracy: 0.888%\n",
      "Running epoch 7/10\n",
      "Epoch training loss:0.006\n",
      "Epoch validation accuracy: 0.889%\n",
      "Running epoch 8/10\n",
      "Epoch training loss:0.006\n",
      "Epoch validation accuracy: 0.895%\n",
      "Running epoch 9/10\n",
      "Epoch training loss:0.005\n",
      "Epoch validation accuracy: 0.896%\n",
      "Running epoch 10/10\n",
      "Epoch training loss:0.005\n",
      "Epoch validation accuracy: 0.889%\n"
     ]
    }
   ],
   "source": [
    "NUM_TRAININGS = 5\n",
    "num_epochs = 10\n",
    "alpha = 0.2\n",
    "\n",
    "for training in range(NUM_TRAININGS):\n",
    "    print(f\"Training run: {training + 1}/{NUM_TRAININGS}\")\n",
    "    \n",
    "    # Reinitialize the network and optimizer for each training run.\n",
    "    net = Net()    \n",
    "    opt = torch.optim.Adam(net.parameters(), lr=0.001, betas=(0.9, 0.999))\n",
    "    best_acc = 0\n",
    "\n",
    "    for e in range(num_epochs):\n",
    "        print('Running epoch {}/{}'.format(e+1, num_epochs))\n",
    "        net, best_acc = shap_regularized_binary_train_epoch(\n",
    "            net, opt, criterion, alpha, \n",
    "            data_hold, label_hold, index_loader, \n",
    "            val_hold, val_label, val_index_loader, \n",
    "            best_acc\n",
    "        )\n",
    "        \n",
    "    # Save the model after all epochs for this training run.\n",
    "    save_model(net, training)\n",
    "\n"
   ]
  },
  {
   "attachments": {},
   "cell_type": "markdown",
   "metadata": {},
   "source": [
    "not used"
   ]
  },
  {
   "cell_type": "code",
   "execution_count": null,
   "metadata": {},
   "outputs": [],
   "source": [
    "# save model which can be used for prediction\n",
    "torch.save(net.state_dict(), model_dir + '/roofnet_binary_class_403pos.pth') "
   ]
  },
  {
   "cell_type": "code",
   "execution_count": 79,
   "metadata": {},
   "outputs": [
    {
     "name": "stdout",
     "output_type": "stream",
     "text": [
      "Overall accuracy: 0.800\n",
      "No reroof prediction accuracy: 0.800\n",
      "Reroof prediction accuracy: 0.800\n"
     ]
    }
   ],
   "source": [
    "hold = gen_metrics(get_max_prob, val_latents, val_meta, net)"
   ]
  },
  {
   "cell_type": "code",
   "execution_count": 80,
   "metadata": {},
   "outputs": [
    {
     "name": "stdout",
     "output_type": "stream",
     "text": [
      "Overall accuracy: 0.727\n",
      "No reroof prediction accuracy: 0.760\n",
      "Reroof prediction accuracy: 0.700\n"
     ]
    }
   ],
   "source": [
    "hold = gen_metrics(get_max_prob, test_latents, test_meta, net)"
   ]
  },
  {
   "cell_type": "code",
   "execution_count": null,
   "metadata": {},
   "outputs": [],
   "source": [
    "out = {'site_address': hold[:,0], 'transition_true': hold[:,2], 'transition_predicted': hold[:,1]}\n",
    "# to save the predictions\n",
    "pd.DataFrame(out).to_csv('Argmax(Prob) ShapBatchpos403.csv')"
   ]
  },
  {
   "attachments": {},
   "cell_type": "markdown",
   "metadata": {},
   "source": [
    "## Encourage Negative Magnitude"
   ]
  },
  {
   "cell_type": "code",
   "execution_count": 81,
   "metadata": {},
   "outputs": [],
   "source": [
    "def shap_regularized_binary_train_epoch(model, opt, criterion, alpha, data, labels, data_loader, val_data, val_labels, val_data_loader, best_acc, logit=False):\n",
    "    \n",
    "    best_model_wts = copy.deepcopy(model.state_dict())\n",
    "    model.train()\n",
    "    loss_hold = []\n",
    "\n",
    "    for i, batch_indices in enumerate(iter(data_loader)):\n",
    "        batch_size = len(batch_indices)\n",
    "        x_batch = data[batch_indices]\n",
    "        y_batch = labels[batch_indices]\n",
    "\n",
    "        x_batch = torch.from_numpy(x_batch).float().to(device)\n",
    "        y_batch = torch.tensor(y_batch, dtype=torch.float, device=device).view(batch_size, -1)\n",
    "        \n",
    "        opt.zero_grad()\n",
    "        y_hat = model(x_batch)\n",
    "        \n",
    "        # Original loss\n",
    "        loss = criterion(y_hat, y_batch)\n",
    "        \n",
    "        # Compute SHAP values for current batch\n",
    "        background_data = x_batch[np.random.choice(x_batch.shape[0], min(x_batch.shape[0], 100), replace=False)]\n",
    "        explainer = shap.DeepExplainer(model, background_data)\n",
    "        shap_batch = explainer.shap_values(x_batch)\n",
    "        \n",
    "        # Encourage negative SHAP values\n",
    "        negative_shap_batch = np.minimum(shap_batch, 0)  # Filter only positive SHAP values\n",
    "\n",
    "        negative_shap_tensor = torch.tensor(negative_shap_batch, dtype=torch.float32, device=device)\n",
    "        shap_reg_term = (y_hat - negative_shap_tensor).pow(2).mean()\n",
    "        \n",
    "        # Updated loss with the SHAP term\n",
    "        total_loss = loss + alpha * shap_reg_term\n",
    "\n",
    "        total_loss.backward()\n",
    "        opt.step()\n",
    "        loss_hold.append(total_loss.item()/batch_size)\n",
    "\n",
    "    print(\"Epoch training loss:{:.3f}\".format(np.mean(loss_hold)))\n",
    "\n",
    "    model.eval()\n",
    "    pred_acc = []\n",
    "    for i in iter(val_data_loader):\n",
    "        batch_size = len(i)\n",
    "        x_batch = val_data[i]\n",
    "        y_batch = val_labels[i]\n",
    "        x_batch = Variable(torch.from_numpy(x_batch))\n",
    "\n",
    "        if logit:\n",
    "            y_logits = model(x_batch.to(model.device))\n",
    "            s = nn.Sigmoid()\n",
    "            y_hat = s(y_logits) > 0.5\n",
    "        else:\n",
    "            y_hat = model(x_batch.to(model.device))>0.5\n",
    "        \n",
    "        pred_acc.append(np.mean(y_hat.cpu().numpy() == y_batch.reshape(batch_size,-1)))\n",
    "        \n",
    "    pred_acc = np.mean(pred_acc)\n",
    "    print(\"Epoch validation accuracy: {:.3f}%\".format(pred_acc))\n",
    "    \n",
    "    if pred_acc >= best_acc:\n",
    "        best_model_wts = copy.deepcopy(model.state_dict())\n",
    "        best_acc = pred_acc\n",
    "    \n",
    "    model.load_state_dict(best_model_wts)\n",
    "    return model, best_acc\n"
   ]
  },
  {
   "cell_type": "code",
   "execution_count": 82,
   "metadata": {},
   "outputs": [],
   "source": [
    "class Net(nn.Module): # binary classifier\n",
    "    \n",
    "    def __init__(self, zdim = 128): # initialize network # zdim is the dimension of the latent vector\n",
    "        super().__init__()  # inherit from nn.Module\n",
    "        \n",
    "        self.device = torch.device(\"cuda:0\" if torch.cuda.is_available() else \"cpu\")    # get device\n",
    "        \n",
    "        self.network = nn.Sequential( # define network\n",
    "            nn.Linear(2*zdim, 2*zdim), # input layer\n",
    "            nn.ReLU(),  # activation function\n",
    "            nn.Dropout(0.2),    # dropout\n",
    "            nn.Linear(2*zdim, zdim),   # hidden layer\n",
    "            nn.ReLU(), # activation function\n",
    "            nn.Dropout(0.2),   # dropout\n",
    "            nn.Linear(zdim, 64),    # hidden layer\n",
    "            nn.ReLU(),  # activation function\n",
    "            nn.Dropout(0.2),    # dropout\n",
    "            nn.Linear(64, 1),   # output layer\n",
    "            nn.Sigmoid()    # sigmoid function\n",
    "        ).to(self.device)       # send network to device\n",
    "              \n",
    "    \n",
    "    def forward(self, x):\n",
    "        y = self.network(x)    # forward pass\n",
    "        return y   # return output of network (prediction)\n",
    "    \n",
    "net = Net()    \n",
    "opt = torch.optim.Adam(net.parameters(), lr=0.001, betas=(0.9, 0.999))\n",
    "criterion = nn.BCELoss()    # binary cross entropy loss\n",
    "\n"
   ]
  },
  {
   "cell_type": "code",
   "execution_count": 83,
   "metadata": {},
   "outputs": [],
   "source": [
    "def save_model(model, run, folder='binary_classifier_shap_negative_dynamic_aplha02'):\n",
    "    if not os.path.exists(folder):\n",
    "        os.makedirs(folder)  # Create the folder if it doesn't exist\n",
    "    filename = f'model_run_shap_neg_dynamic{run + 1}.pth'\n",
    "    torch.save(model.state_dict(), os.path.join(folder, filename))"
   ]
  },
  {
   "cell_type": "code",
   "execution_count": 84,
   "metadata": {},
   "outputs": [],
   "source": [
    "index_loader = torch.utils.data.DataLoader(np.arange(len(data_hold)),batch_size=32,shuffle=True) # index loader is used to shuffle the data\n",
    "val_index_loader = torch.utils.data.DataLoader(np.arange(len(val_hold)),batch_size=32,shuffle=True)"
   ]
  },
  {
   "cell_type": "code",
   "execution_count": 85,
   "metadata": {},
   "outputs": [
    {
     "name": "stdout",
     "output_type": "stream",
     "text": [
      "Training run: 1/5\n",
      "Running epoch 1/10\n",
      "Epoch training loss:0.014\n",
      "Epoch validation accuracy: 0.885%\n",
      "Running epoch 2/10\n",
      "Epoch training loss:0.008\n",
      "Epoch validation accuracy: 0.889%\n",
      "Running epoch 3/10\n",
      "Epoch training loss:0.006\n",
      "Epoch validation accuracy: 0.885%\n",
      "Running epoch 4/10\n",
      "Epoch training loss:0.006\n",
      "Epoch validation accuracy: 0.884%\n",
      "Running epoch 5/10\n",
      "Epoch training loss:0.006\n",
      "Epoch validation accuracy: 0.878%\n",
      "Running epoch 6/10\n",
      "Epoch training loss:0.006\n",
      "Epoch validation accuracy: 0.896%\n",
      "Running epoch 7/10\n",
      "Epoch training loss:0.005\n",
      "Epoch validation accuracy: 0.885%\n",
      "Running epoch 8/10\n",
      "Epoch training loss:0.005\n",
      "Epoch validation accuracy: 0.889%\n",
      "Running epoch 9/10\n",
      "Epoch training loss:0.005\n",
      "Epoch validation accuracy: 0.899%\n",
      "Running epoch 10/10\n",
      "Epoch training loss:0.004\n",
      "Epoch validation accuracy: 0.886%\n",
      "Training run: 2/5\n",
      "Running epoch 1/10\n",
      "Epoch training loss:0.014\n",
      "Epoch validation accuracy: 0.889%\n",
      "Running epoch 2/10\n",
      "Epoch training loss:0.008\n",
      "Epoch validation accuracy: 0.912%\n",
      "Running epoch 3/10\n",
      "Epoch training loss:0.007\n",
      "Epoch validation accuracy: 0.898%\n",
      "Running epoch 4/10\n",
      "Epoch training loss:0.006\n",
      "Epoch validation accuracy: 0.893%\n",
      "Running epoch 5/10\n",
      "Epoch training loss:0.006\n",
      "Epoch validation accuracy: 0.909%\n",
      "Running epoch 6/10\n",
      "Epoch training loss:0.006\n",
      "Epoch validation accuracy: 0.904%\n",
      "Running epoch 7/10\n",
      "Epoch training loss:0.006\n",
      "Epoch validation accuracy: 0.898%\n",
      "Running epoch 8/10\n",
      "Epoch training loss:0.006\n",
      "Epoch validation accuracy: 0.904%\n",
      "Running epoch 9/10\n",
      "Epoch training loss:0.006\n",
      "Epoch validation accuracy: 0.897%\n",
      "Running epoch 10/10\n",
      "Epoch training loss:0.006\n",
      "Epoch validation accuracy: 0.906%\n",
      "Training run: 3/5\n",
      "Running epoch 1/10\n",
      "Epoch training loss:0.014\n",
      "Epoch validation accuracy: 0.874%\n",
      "Running epoch 2/10\n",
      "Epoch training loss:0.008\n",
      "Epoch validation accuracy: 0.890%\n",
      "Running epoch 3/10\n",
      "Epoch training loss:0.006\n",
      "Epoch validation accuracy: 0.896%\n",
      "Running epoch 4/10\n",
      "Epoch training loss:0.005\n",
      "Epoch validation accuracy: 0.883%\n",
      "Running epoch 5/10\n",
      "Epoch training loss:0.005\n",
      "Epoch validation accuracy: 0.877%\n",
      "Running epoch 6/10\n",
      "Epoch training loss:0.005\n",
      "Epoch validation accuracy: 0.896%\n",
      "Running epoch 7/10\n",
      "Epoch training loss:0.004\n",
      "Epoch validation accuracy: 0.892%\n",
      "Running epoch 8/10\n",
      "Epoch training loss:0.004\n",
      "Epoch validation accuracy: 0.905%\n",
      "Running epoch 9/10\n",
      "Epoch training loss:0.004\n",
      "Epoch validation accuracy: 0.900%\n",
      "Running epoch 10/10\n",
      "Epoch training loss:0.004\n",
      "Epoch validation accuracy: 0.897%\n",
      "Training run: 4/5\n",
      "Running epoch 1/10\n",
      "Epoch training loss:0.014\n",
      "Epoch validation accuracy: 0.886%\n",
      "Running epoch 2/10\n",
      "Epoch training loss:0.008\n",
      "Epoch validation accuracy: 0.903%\n",
      "Running epoch 3/10\n",
      "Epoch training loss:0.006\n",
      "Epoch validation accuracy: 0.905%\n",
      "Running epoch 4/10\n",
      "Epoch training loss:0.005\n",
      "Epoch validation accuracy: 0.903%\n",
      "Running epoch 5/10\n",
      "Epoch training loss:0.005\n",
      "Epoch validation accuracy: 0.907%\n",
      "Running epoch 6/10\n",
      "Epoch training loss:0.004\n",
      "Epoch validation accuracy: 0.899%\n",
      "Running epoch 7/10\n",
      "Epoch training loss:0.004\n",
      "Epoch validation accuracy: 0.909%\n",
      "Running epoch 8/10\n",
      "Epoch training loss:0.004\n",
      "Epoch validation accuracy: 0.906%\n",
      "Running epoch 9/10\n",
      "Epoch training loss:0.004\n",
      "Epoch validation accuracy: 0.905%\n",
      "Running epoch 10/10\n",
      "Epoch training loss:0.004\n",
      "Epoch validation accuracy: 0.908%\n",
      "Training run: 5/5\n",
      "Running epoch 1/10\n",
      "Epoch training loss:0.014\n",
      "Epoch validation accuracy: 0.876%\n",
      "Running epoch 2/10\n",
      "Epoch training loss:0.008\n",
      "Epoch validation accuracy: 0.893%\n",
      "Running epoch 3/10\n",
      "Epoch training loss:0.006\n",
      "Epoch validation accuracy: 0.889%\n",
      "Running epoch 4/10\n",
      "Epoch training loss:0.006\n",
      "Epoch validation accuracy: 0.891%\n",
      "Running epoch 5/10\n",
      "Epoch training loss:0.006\n",
      "Epoch validation accuracy: 0.891%\n",
      "Running epoch 6/10\n",
      "Epoch training loss:0.006\n",
      "Epoch validation accuracy: 0.895%\n",
      "Running epoch 7/10\n",
      "Epoch training loss:0.005\n",
      "Epoch validation accuracy: 0.907%\n",
      "Running epoch 8/10\n",
      "Epoch training loss:0.005\n",
      "Epoch validation accuracy: 0.893%\n",
      "Running epoch 9/10\n",
      "Epoch training loss:0.004\n",
      "Epoch validation accuracy: 0.902%\n",
      "Running epoch 10/10\n",
      "Epoch training loss:0.005\n",
      "Epoch validation accuracy: 0.896%\n"
     ]
    }
   ],
   "source": [
    "NUM_TRAININGS = 5\n",
    "num_epochs = 10\n",
    "alpha = 0.2\n",
    "\n",
    "for training in range(NUM_TRAININGS):\n",
    "    print(f\"Training run: {training + 1}/{NUM_TRAININGS}\")\n",
    "    \n",
    "    # Reinitialize the network and optimizer for each training run.\n",
    "    net = Net()    \n",
    "    opt = torch.optim.Adam(net.parameters(), lr=0.001, betas=(0.9, 0.999))\n",
    "    best_acc = 0\n",
    "\n",
    "    for e in range(num_epochs):\n",
    "        print('Running epoch {}/{}'.format(e+1, num_epochs))\n",
    "        net, best_acc = shap_regularized_binary_train_epoch(\n",
    "            net, opt, criterion, alpha, \n",
    "            data_hold, label_hold, index_loader, \n",
    "            val_hold, val_label, val_index_loader, \n",
    "            best_acc\n",
    "        )\n",
    "        \n",
    "    # Save the model after all epochs for this training run.\n",
    "    save_model(net, training)\n",
    "\n"
   ]
  },
  {
   "cell_type": "code",
   "execution_count": null,
   "metadata": {},
   "outputs": [],
   "source": [
    "# save model which can be used for prediction\n",
    "torch.save(net.state_dict(), model_dir + '/roofnet_binary_class_403neg.pth') "
   ]
  },
  {
   "cell_type": "code",
   "execution_count": null,
   "metadata": {},
   "outputs": [],
   "source": [
    "hold = gen_metrics(get_max_prob, val_latents, val_meta, net)"
   ]
  },
  {
   "cell_type": "code",
   "execution_count": null,
   "metadata": {},
   "outputs": [],
   "source": [
    "hold = gen_metrics(get_max_prob, test_latents, test_meta, net)"
   ]
  },
  {
   "cell_type": "code",
   "execution_count": null,
   "metadata": {},
   "outputs": [],
   "source": [
    "out = {'site_address': hold[:,0], 'transition_true': hold[:,2], 'transition_predicted': hold[:,1]}\n",
    "# to save the predictions\n",
    "pd.DataFrame(out).to_csv('Argmax(Prob) ShapBatchneg403.csv')"
   ]
  },
  {
   "attachments": {},
   "cell_type": "markdown",
   "metadata": {},
   "source": [
    "# Prediction Threshold"
   ]
  },
  {
   "cell_type": "markdown",
   "metadata": {
    "collapsed": true,
    "jupyter": {
     "outputs_hidden": true
    }
   },
   "source": [
    "Hyperparameter tuning on prediction threshold, best to leave at 0.5:"
   ]
  },
  {
   "cell_type": "code",
   "execution_count": null,
   "metadata": {
    "scrolled": true
   },
   "outputs": [],
   "source": [
    "#out = [Address, predicted_transition, actual_transition]\n",
    "for i in range(21):\n",
    "    pt = 0.4+0.01*i\n",
    "    print(pt)\n",
    "    no_reroof_pred = []\n",
    "    reroof_pred = []\n",
    "    hold = get_max_prob(test_latents,test_meta,net,prob_threshold=pt)\n",
    "    print(\"Overall accuracy: {:0.3f}\".format(np.mean(hold[:,1]==hold[:,2])))\n",
    "    for i in hold:\n",
    "        if int(i[2])==0:\n",
    "            no_reroof_pred.append(int(int(i[1]) == 0))\n",
    "        else:\n",
    "            reroof_pred.append(int(i[1]==i[2]))\n",
    "    print(\"No reroof prediction accuracy: {:0.3f}\".format(np.mean(no_reroof_pred)))\n",
    "    print(\"Reroof prediction accuracy: {:0.3f}\".format(np.mean(reroof_pred)))\n",
    "    print('-'*20)"
   ]
  },
  {
   "cell_type": "code",
   "execution_count": null,
   "metadata": {
    "scrolled": true
   },
   "outputs": [],
   "source": [
    "#out = [Address, predicted_transition, actual_transition]\n",
    "for i in range(11):\n",
    "    pt = 0.3+0.01*i\n",
    "    print(pt)\n",
    "    no_reroof_pred = []\n",
    "    reroof_pred = []\n",
    "    hold = get_max_prob(latents,meta,net,prob_threshold=pt)\n",
    "    print(\"Overall accuracy: {:0.3f}\".format(np.mean(hold[:,1]==hold[:,2])))\n",
    "    for i in hold:\n",
    "        if int(i[2])==0:\n",
    "            no_reroof_pred.append(int(int(i[1]) == 0))\n",
    "        else:\n",
    "            reroof_pred.append(int(i[1]==i[2]))\n",
    "    print(\"No reroof prediction accuracy: {:0.3f}\".format(np.mean(no_reroof_pred)))\n",
    "    print(\"Reroof prediction accuracy: {:0.3f}\".format(np.mean(reroof_pred)))\n",
    "    print('-'*20)"
   ]
  },
  {
   "cell_type": "code",
   "execution_count": null,
   "metadata": {
    "scrolled": true
   },
   "outputs": [],
   "source": [
    "#out = [Address, predicted_transition, actual_transition]\n",
    "for i in range(21):\n",
    "    # probabiliy threshold\n",
    "    pt = 0.1+0.01*i\n",
    "    print(pt)\n",
    "    no_reroof_pred = []\n",
    "    reroof_pred = []\n",
    "    hold = get_max_prob(latents,meta,net,prob_threshold=pt)\n",
    "    print(\"Overall accuracy: {:0.3f}\".format(np.mean(hold[:,1]==hold[:,2])))\n",
    "    for i in hold:\n",
    "        if int(i[2])==0:\n",
    "            no_reroof_pred.append(int(int(i[1]) == 0))\n",
    "        else:\n",
    "            reroof_pred.append(int(i[1]==i[2]))\n",
    "    print(\"No reroof prediction accuracy: {:0.3f}\".format(np.mean(no_reroof_pred)))\n",
    "    print(\"Reroof prediction accuracy: {:0.3f}\".format(np.mean(reroof_pred)))\n",
    "    print('-'*20)"
   ]
  },
  {
   "cell_type": "code",
   "execution_count": null,
   "metadata": {
    "scrolled": true
   },
   "outputs": [],
   "source": [
    "#out = [Address, predicted_transition, actual_transition] TO THE TRAIN SET\n",
    "for i in range(21):\n",
    "    pt = 0.4+0.01*i\n",
    "    print(pt)\n",
    "    no_reroof_pred = []\n",
    "    reroof_pred = []\n",
    "    hold = get_max_prob(latents,meta,net,prob_threshold=pt)\n",
    "    print(\"Overall accuracy: {:0.3f}\".format(np.mean(hold[:,1]==hold[:,2])))\n",
    "    for i in hold:\n",
    "        if int(i[2])==0:\n",
    "            no_reroof_pred.append(int(int(i[1]) == 0))\n",
    "        else:\n",
    "            reroof_pred.append(int(i[1]==i[2]))\n",
    "    print(\"No reroof prediction accuracy: {:0.3f}\".format(np.mean(no_reroof_pred)))\n",
    "    print(\"Reroof prediction accuracy: {:0.3f}\".format(np.mean(reroof_pred)))\n",
    "    print('-'*20)"
   ]
  },
  {
   "cell_type": "code",
   "execution_count": null,
   "metadata": {},
   "outputs": [],
   "source": []
  }
 ],
 "metadata": {
  "kernelspec": {
   "display_name": "roofxai",
   "language": "python",
   "name": "python3"
  },
  "language_info": {
   "codemirror_mode": {
    "name": "ipython",
    "version": 3
   },
   "file_extension": ".py",
   "mimetype": "text/x-python",
   "name": "python",
   "nbconvert_exporter": "python",
   "pygments_lexer": "ipython3",
   "version": "3.10.0 (default, Mar  3 2022, 03:54:28) [Clang 12.0.0 ]"
  },
  "vscode": {
   "interpreter": {
    "hash": "c8894df8dd8fdbd6c91ecf09b4a5d40bec4e42bef395be83350036acab2607e6"
   }
  }
 },
 "nbformat": 4,
 "nbformat_minor": 4
}
